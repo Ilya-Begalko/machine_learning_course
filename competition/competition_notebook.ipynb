{
 "metadata": {
  "kernelspec": {
   "language": "python",
   "display_name": "Python 3",
   "name": "python3"
  },
  "language_info": {
   "name": "python",
   "version": "3.7.10",
   "mimetype": "text/x-python",
   "codemirror_mode": {
    "name": "ipython",
    "version": 3
   },
   "pygments_lexer": "ipython3",
   "nbconvert_exporter": "python",
   "file_extension": ".py"
  }
 },
 "nbformat_minor": 4,
 "nbformat": 4,
 "cells": [
  {
   "cell_type": "markdown",
   "source": [
    "# Вступление\n",
    "Цель - создать набор данных и простую (1 скрытый слой) сеть для целей классификации. Я хочу, чтобы все было как можно более замкнутым. Возможно, есть более гибкие конструкции, но я сосредоточен только на решении классификатора цифр MNIST.\n",
    "\n",
    "Прежде всего, полезный импорт."
   ],
   "metadata": {}
  },
  {
   "cell_type": "code",
   "source": [
    "import numpy as np\n",
    "import pandas as pd\n",
    "\n",
    "import torch\n",
    "import torch.nn as nn\n",
    "from torch.utils.data import Dataset, DataLoader\n",
    "from torch.utils.data.sampler import SubsetRandomSampler\n",
    "import torch.nn.functional as F\n",
    "\n",
    "import os\n",
    "from sklearn.model_selection import train_test_split\n",
    "\n",
    "import matplotlib.pyplot as plt\n",
    "\n",
    "from keras.models import Sequential\n",
    "from keras.layers import Dense, Dropout, Conv2D, Flatten, MaxPool2D\n",
    "from keras.utils import to_categorical\n",
    "from keras.preprocessing.image import ImageDataGenerator\n",
    "import seaborn as sns\n",
    "import matplotlib.pyplot as plt\n",
    "import sklearn\n",
    "import tensorflow as tf\n",
    "for dirname, _, filenames in os.walk('/kaggle/input'):\n",
    "    for filename in filenames:\n",
    "        print(os.path.join(dirname, filename))"
   ],
   "metadata": {
    "execution": {
     "iopub.status.busy": "2021-05-20T12:49:08.338471Z",
     "iopub.execute_input": "2021-05-20T12:49:08.339032Z",
     "iopub.status.idle": "2021-05-20T12:49:15.069972Z",
     "shell.execute_reply.started": "2021-05-20T12:49:08.338948Z",
     "shell.execute_reply": "2021-05-20T12:49:15.068886Z"
    },
    "trusted": true
   },
   "execution_count": 1,
   "outputs": [
    {
     "name": "stdout",
     "text": "/kaggle/input/digit-recognizer/sample_submission.csv\n/kaggle/input/digit-recognizer/train.csv\n/kaggle/input/digit-recognizer/test.csv\n",
     "output_type": "stream"
    }
   ]
  },
  {
   "cell_type": "markdown",
   "source": [
    "## 1. Создайем загрузчики данных\n",
    "Самым сложным здесь было получение правильных форм и типов. Есть 2 объекта: один для обучающего набора (который возвращает данные и истинную метку) и один для тестового набора (который возвращает только данные).\n",
    "Поскольку в этой простой модели нас не интересует форма, данные возвращаются в виде вектора длиной 784."
   ],
   "metadata": {}
  },
  {
   "cell_type": "code",
   "source": [
    "class KaggleMNIST(Dataset):\n",
    "    \"\"\"Пользовательский набор данных для использования с pytorch.\n",
    "     Даже если у pytorch есть набор данных MNIST, для участия в Kaggle\n",
    "     конкуренция, нам лучше использовать набор данных Kaggle.\n",
    "     Этот класс загружает только набор данных поезда (изображения + метки).\n",
    "    \"\"\"\n",
    "    \n",
    "    def __init__(self, path):\n",
    "        data = np.loadtxt(path + 'train.csv', delimiter=',', skiprows=1, dtype=np.float32)\n",
    "        self._digits = torch.from_numpy(data[:, 1:]) / 255\n",
    "        self._labels = torch.from_numpy(data[:, 0]).type(torch.long)\n",
    "        self._size = len(data)\n",
    "        print('Training dataset with MNIST digits loaded.')\n",
    "        print('  Digits has shape:', self._digits.shape)\n",
    "        print('  Labels has shape:', self._labels.shape)\n",
    "        \n",
    "    def __getitem__(self, idx):\n",
    "        return (self._digits[idx], self._labels[idx])\n",
    "    \n",
    "    def __len__(self):\n",
    "        return self._size\n",
    "    \n",
    "class KaggleMNIST_test(Dataset):\n",
    "    \"\"\"Пользовательский набор данных для использования с pytorch.\n",
    "     Даже если у pytorch есть набор данных MNIST, для участия в Kaggle\n",
    "     конкуренция, нам лучше использовать набор данных Kaggle.\n",
    "     Этот класс загружает только тестовый набор данных (изображения).\n",
    "    \"\"\"\n",
    "    \n",
    "    def __init__(self, path):\n",
    "        data = np.loadtxt(path + 'test.csv', delimiter=',', skiprows=1, dtype=np.float32)\n",
    "        self._digits = torch.from_numpy(data) / 256\n",
    "        self._size = len(data)\n",
    "        print('Testing dataset with MNIST digits loaded.')\n",
    "        print('  Digits has shape:', self._digits.shape)\n",
    "        \n",
    "    def __getitem__(self, idx):\n",
    "        return self._digits[idx]\n",
    "    \n",
    "    def __len__(self):\n",
    "        return self._size"
   ],
   "metadata": {
    "execution": {
     "iopub.status.busy": "2021-05-20T12:49:18.400752Z",
     "iopub.execute_input": "2021-05-20T12:49:18.401083Z",
     "iopub.status.idle": "2021-05-20T12:49:18.415704Z",
     "shell.execute_reply.started": "2021-05-20T12:49:18.401055Z",
     "shell.execute_reply": "2021-05-20T12:49:18.414608Z"
    },
    "trusted": true
   },
   "execution_count": 2,
   "outputs": []
  },
  {
   "cell_type": "markdown",
   "source": [
    "## 2. Вспомогательная функция\n",
    "Цель этой функции - уменьшить беспорядок."
   ],
   "metadata": {}
  },
  {
   "cell_type": "code",
   "source": [
    "def create_samplers(size, train_prop):\n",
    "    \"\"\"Функция, которая создает 2 подмножества из набора обучающих данных, одно из которых\n",
    "     используйте din-обучение, а другое - для проверки.\n",
    "    \n",
    "     Параметры\n",
    "     ----------\n",
    "     размер: числовой, целочисленный.\n",
    "         Количество элементов в наборе данных, которые нужно разделить на набор поездов и\n",
    "         набор для проверки.\n",
    "     train_prop: Числовое, с плавающей запятой.\n",
    "         Число от 0 до 1, определяющее пропорцию элементов.\n",
    "         который будет включен в набор для проверки.\n",
    "\n",
    "     Return\n",
    "     -------\n",
    "     Кортеж с двумя объектами SubsetRandomSampler, первый из которых будет использоваться с\n",
    "     обучающий DataLoader, а второй - с проверкой DataLoader.\n",
    "    \"\"\"\n",
    "    cut_point = int(size * train_prop)\n",
    "    shuffled = np.random.permutation(size)\n",
    "    train_sampler = SubsetRandomSampler(shuffled[:cut_point])\n",
    "    validation_sampler = SubsetRandomSampler(shuffled[cut_point:])\n",
    "    return train_sampler, validation_sampler"
   ],
   "metadata": {
    "execution": {
     "iopub.status.busy": "2021-05-20T12:49:21.227675Z",
     "iopub.execute_input": "2021-05-20T12:49:21.228005Z",
     "iopub.status.idle": "2021-05-20T12:49:21.234812Z",
     "shell.execute_reply.started": "2021-05-20T12:49:21.227978Z",
     "shell.execute_reply": "2021-05-20T12:49:21.234107Z"
    },
    "trusted": true
   },
   "execution_count": 3,
   "outputs": []
  },
  {
   "cell_type": "markdown",
   "source": [
    "## 3. Модель\n",
    "Для этой задачи функцией потерь является кросс-энтропия, а оптимизация выполняется с помощью стохастического градиентного спуска. Скрытые слои имеют функцию активации LeakyReLU, но я не видел, чтобы она была лучше или хуже, чем простой ReLU. Использование signoid показало несколько худшие результаты. Больше ничего не пробовал.\n",
    "Модель принимает заряжающие, а точность встроена.\n",
    "Проверка - это частный метод, поскольку он используется во время обучения, а результаты (эволюция потерь и точности) выводятся на экран и возвращаются методом fit () в случае, если пользователь хочет что-то сделать."
   ],
   "metadata": {}
  },
  {
   "cell_type": "code",
   "source": [
    "class MLP_1_HL_Classification(nn.Module):\n",
    "    \"\"\"Простой многослойный перцептрон с одним скрытым слоем, использующий\n",
    "     LeakyReLU как функция активации и кросс-энтропия как функция потерь,\n",
    "     быть примененным к задачам классификации.\n",
    "     Первая попытка поместить все в объект, поэтому модель\n",
    "     самодостаточный. Не уверен, действительно ли это необходимо.\n",
    "    \"\"\"\n",
    "\n",
    "    def __init__(self, input_size, hidden_size, output_size):\n",
    "        super().__init__()\n",
    "        self._input_size = input_size\n",
    "        self._hidden_size = hidden_size\n",
    "        self._output_size = output_size\n",
    "        self.train_loader = None\n",
    "        self.validation_loader = None\n",
    "        self._optimizer_fn = torch.optim.SGD\n",
    "        self._loss_fn = F.cross_entropy\n",
    "        self._net = nn.Sequential(\n",
    "            nn.Linear(self._input_size, self._hidden_size),\n",
    "            nn.LeakyReLU(),\n",
    "            nn.Linear(self._hidden_size, self._output_size))\n",
    "        \n",
    "    def forward(self, batch):\n",
    "        return self._net(batch)\n",
    "    \n",
    "    def define_loaders(self, train, validation):\n",
    "        self.train_loader = train\n",
    "        self.validation_loader = validation\n",
    "            \n",
    "    def _accuracy(self, outputs, labels):\n",
    "        preds = torch.max(outputs, dim=1)[1]\n",
    "        return torch.tensor(torch.sum(preds == labels).item() / len(preds))\n",
    "                \n",
    "    def _validation_with_batch(self, batch):\n",
    "        images, labels = batch \n",
    "        preds = self(images)\n",
    "        loss = self._loss_fn(preds, labels, reduction='sum')\n",
    "        acc = self._accuracy(preds, labels) * len(labels)\n",
    "        return {'loss': loss, 'accuracy': acc}\n",
    "        \n",
    "    def _evaluate(self):\n",
    "        with torch.no_grad():\n",
    "            outputs = [self._validation_with_batch(batch) for batch in self.validation_loader]\n",
    "        samples = len(self.validation_loader.sampler.indices)\n",
    "        batch_losses = [x['loss'] for x in outputs]\n",
    "        epoch_loss = torch.stack(batch_losses).sum() / samples\n",
    "        batch_accuracies = [x['accuracy'] for x in outputs]\n",
    "        epoch_accuracy = torch.stack(batch_accuracies).sum() / samples\n",
    "        return {'loss': epoch_loss.item(), 'accuracy': epoch_accuracy.item()}\n",
    "    \n",
    "    def fit(self, epochs, learning_rate):\n",
    "        print(f'Training the model for {epochs} epochs with learning rate {learning_rate}.')\n",
    "        optim = self._optimizer_fn(self.parameters(), learning_rate)\n",
    "        history = []\n",
    "        for epoch in range(epochs):\n",
    "            # Training Phase \n",
    "            for batch in self.train_loader:\n",
    "                images, labels = batch \n",
    "                loss = self._loss_fn(self(images), labels)\n",
    "                loss.backward()\n",
    "                optim.step()\n",
    "                optim.zero_grad()\n",
    "            # Оценка эпох с помощью набора данных проверки.\n",
    "            result = self._evaluate()\n",
    "            print(\"Epoch [{}], loss: {:.4f}, accuracy: {:.4f}\".format(epoch, result['loss'], result['accuracy']))\n",
    "            history.append(result)\n",
    "        return history  \n"
   ],
   "metadata": {
    "execution": {
     "iopub.status.busy": "2021-05-20T12:49:23.381202Z",
     "iopub.execute_input": "2021-05-20T12:49:23.381664Z",
     "iopub.status.idle": "2021-05-20T12:49:23.396833Z",
     "shell.execute_reply.started": "2021-05-20T12:49:23.381634Z",
     "shell.execute_reply": "2021-05-20T12:49:23.396131Z"
    },
    "trusted": true
   },
   "execution_count": 4,
   "outputs": []
  },
  {
   "cell_type": "markdown",
   "source": [
    "## 4. Загрузка данных"
   ],
   "metadata": {}
  },
  {
   "cell_type": "code",
   "source": [
    "train_set = KaggleMNIST('../input/digit-recognizer/')\n",
    "test_set = KaggleMNIST_test('../input/digit-recognizer/')"
   ],
   "metadata": {
    "execution": {
     "iopub.status.busy": "2021-05-20T12:49:26.771353Z",
     "iopub.execute_input": "2021-05-20T12:49:26.771926Z",
     "iopub.status.idle": "2021-05-20T12:50:02.913956Z",
     "shell.execute_reply.started": "2021-05-20T12:49:26.771894Z",
     "shell.execute_reply": "2021-05-20T12:50:02.912909Z"
    },
    "trusted": true
   },
   "execution_count": 5,
   "outputs": [
    {
     "name": "stdout",
     "text": "Training dataset with MNIST digits loaded.\n  Digits has shape: torch.Size([42000, 784])\n  Labels has shape: torch.Size([42000])\nTesting dataset with MNIST digits loaded.\n  Digits has shape: torch.Size([28000, 784])\n",
     "output_type": "stream"
    }
   ]
  },
  {
   "cell_type": "markdown",
   "source": [
    "## 5. Дальнейшая настройка"
   ],
   "metadata": {}
  },
  {
   "cell_type": "code",
   "source": [
    "batch_size = 80\n",
    "hidden_layer = 500\n",
    "\n",
    "train_sampler, validation_sampler = create_samplers(len(train_set), 0.8)\n",
    "\n",
    "print(f'Size of training set: {len(train_sampler.indices)}.')\n",
    "print(f'Size of validation set: {len(validation_sampler.indices)}.')\n",
    "\n",
    "train_loader = DataLoader(train_set, batch_size, sampler = train_sampler)\n",
    "validation_loader = DataLoader(train_set, batch_size, sampler = validation_sampler)"
   ],
   "metadata": {
    "execution": {
     "iopub.status.busy": "2021-05-20T12:50:03.128766Z",
     "iopub.execute_input": "2021-05-20T12:50:03.129148Z",
     "iopub.status.idle": "2021-05-20T12:50:03.136549Z",
     "shell.execute_reply.started": "2021-05-20T12:50:03.129116Z",
     "shell.execute_reply": "2021-05-20T12:50:03.135690Z"
    },
    "trusted": true
   },
   "execution_count": 6,
   "outputs": [
    {
     "name": "stdout",
     "text": "Size of training set: 33600.\nSize of validation set: 8400.\n",
     "output_type": "stream"
    }
   ]
  },
  {
   "cell_type": "markdown",
   "source": [
    "## 6. Создайте модель и обучите ее\n",
    "Учитывая, что мы знаем набор данных, размеры входного и выходного слоев являются константами.\n",
    "\n",
    "Метод подгонки предназначен для последовательных вызовов, изменяющих эпохи и скорость обучения. Показанные здесь были найдены методом проб и ошибок. Эта сеть, кажется, имеет максимальную точность 97%, и большее количество эпох или больший скрытый слой не улучшают ее, по крайней мере, в моих попытках."
   ],
   "metadata": {}
  },
  {
   "cell_type": "code",
   "source": [
    "model = MLP_1_HL_Classification(784, hidden_layer, 10)\n",
    "model.define_loaders(train_loader, validation_loader)\n",
    "\n",
    "model.fit(3, 0.15)\n",
    "model.fit(3, 0.1)\n",
    "model.fit(5, 0.05)\n",
    "model.fit(4, 0.025)\n",
    "model.fit(4, 0.01)\n",
    "model.fit(4, 0.005)\n",
    "\n",
    "result0 = model._evaluate()\n",
    "print(result0)"
   ],
   "metadata": {
    "execution": {
     "iopub.status.busy": "2021-05-20T12:50:05.747546Z",
     "iopub.execute_input": "2021-05-20T12:50:05.748092Z",
     "iopub.status.idle": "2021-05-20T12:50:44.354199Z",
     "shell.execute_reply.started": "2021-05-20T12:50:05.748043Z",
     "shell.execute_reply": "2021-05-20T12:50:44.353107Z"
    },
    "trusted": true
   },
   "execution_count": 7,
   "outputs": [
    {
     "name": "stdout",
     "text": "Training the model for 3 epochs with learning rate 0.15.\nEpoch [0], loss: 0.3043, accuracy: 0.9095\nEpoch [1], loss: 0.2207, accuracy: 0.9352\nEpoch [2], loss: 0.1809, accuracy: 0.9477\nTraining the model for 3 epochs with learning rate 0.1.\nEpoch [0], loss: 0.1612, accuracy: 0.9507\nEpoch [1], loss: 0.1479, accuracy: 0.9544\nEpoch [2], loss: 0.1393, accuracy: 0.9567\nTraining the model for 5 epochs with learning rate 0.05.\nEpoch [0], loss: 0.1331, accuracy: 0.9592\nEpoch [1], loss: 0.1299, accuracy: 0.9601\nEpoch [2], loss: 0.1236, accuracy: 0.9608\nEpoch [3], loss: 0.1205, accuracy: 0.9613\nEpoch [4], loss: 0.1189, accuracy: 0.9620\nTraining the model for 4 epochs with learning rate 0.025.\nEpoch [0], loss: 0.1166, accuracy: 0.9633\nEpoch [1], loss: 0.1152, accuracy: 0.9642\nEpoch [2], loss: 0.1149, accuracy: 0.9637\nEpoch [3], loss: 0.1125, accuracy: 0.9648\nTraining the model for 4 epochs with learning rate 0.01.\nEpoch [0], loss: 0.1118, accuracy: 0.9646\nEpoch [1], loss: 0.1115, accuracy: 0.9648\nEpoch [2], loss: 0.1106, accuracy: 0.9655\nEpoch [3], loss: 0.1103, accuracy: 0.9651\nTraining the model for 4 epochs with learning rate 0.005.\nEpoch [0], loss: 0.1103, accuracy: 0.9656\nEpoch [1], loss: 0.1099, accuracy: 0.9655\nEpoch [2], loss: 0.1097, accuracy: 0.9654\nEpoch [3], loss: 0.1096, accuracy: 0.9654\n{'loss': 0.10957708954811096, 'accuracy': 0.9653571248054504}\n",
     "output_type": "stream"
    }
   ]
  },
  {
   "cell_type": "markdown",
   "source": [
    "## 7. Вывод"
   ],
   "metadata": {}
  },
  {
   "cell_type": "code",
   "source": [
    "predictions = [[idx+1, torch.max(model(point), dim=1)[1].item()] for idx, point in enumerate(DataLoader(test_set))]\n",
    "submission = pd.DataFrame(predictions, columns=['ImageId', 'Label'])\n",
    "submission.to_csv(\"submission.csv\", index=False)"
   ],
   "metadata": {
    "execution": {
     "iopub.status.busy": "2021-05-20T12:51:06.019009Z",
     "iopub.execute_input": "2021-05-20T12:51:06.019406Z",
     "iopub.status.idle": "2021-05-20T12:51:12.492707Z",
     "shell.execute_reply.started": "2021-05-20T12:51:06.019360Z",
     "shell.execute_reply": "2021-05-20T12:51:12.491991Z"
    },
    "trusted": true
   },
   "execution_count": 10,
   "outputs": []
  },
  {
   "cell_type": "markdown",
   "source": [
    "# Модель №2"
   ],
   "metadata": {
    "collapsed": false
   }
  },
  {
   "cell_type": "code",
   "execution_count": null,
   "outputs": [],
   "source": [
    "train_data = pd.read_csv(\"/kaggle/input/digit-recognizer/train.csv\")\n",
    "print(train_data.shape)\n",
    "print(train_data.head())\n",
    "# изображения сглаживаются (каждая строка содержит значения для одного изображения)\n",
    "# нам нужно изменить его форму, чтобы получить матрицу изображения (значения пикселей в оттенках серого в матрице 28 x 28)\n",
    "# но сначала мы разделяем метки и предикторы (y и x соответственно)\n",
    "# и преобразовать из фрейма данных Pandas в матрицу numpy (это то, что делает .values)\n",
    "\n",
    "X = (train_data.iloc[:, 1:].values).astype('float32')\n",
    "y = (train_data.iloc[:, 0].values).astype('int32')"
   ],
   "metadata": {
    "collapsed": false,
    "pycharm": {
     "name": "#%%\n"
    }
   }
  },
  {
   "cell_type": "code",
   "execution_count": null,
   "outputs": [],
   "source": [
    "test_data = pd.read_csv(\"/kaggle/input/digit-recognizer/test.csv\")\n",
    "print(test_data.shape)\n",
    "test_data.head()\n",
    "X_test = test_data.values.astype('float32')\n"
   ],
   "metadata": {
    "collapsed": false,
    "pycharm": {
     "name": "#%%\n"
    }
   }
  },
  {
   "cell_type": "code",
   "execution_count": null,
   "outputs": [],
   "source": [
    "submission_data = pd.read_csv(\"/kaggle/input/digit-recognizer/sample_submission.csv\")\n",
    "print(submission_data.shape)\n",
    "submission_data.head()"
   ],
   "metadata": {
    "collapsed": false,
    "pycharm": {
     "name": "#%%\n"
    }
   }
  },
  {
   "cell_type": "code",
   "execution_count": null,
   "outputs": [],
   "source": [
    "img_rows, img_cols = 28, 28\n",
    "num_classes = 10  # digits 0 - 9\n",
    "\n",
    "X_train = X.reshape(X.shape[0], img_rows, img_cols)\n",
    "X_test = X_test.reshape(X_test.shape[0], img_rows, img_cols)"
   ],
   "metadata": {
    "collapsed": false,
    "pycharm": {
     "name": "#%%\n"
    }
   }
  },
  {
   "cell_type": "code",
   "execution_count": null,
   "outputs": [],
   "source": [
    "# Построим изображения для проверки работоспособности\n",
    "\n",
    "for i in range(5, 8):\n",
    "    plt.subplot(130 + (-4+i))\n",
    "    plt.imshow(X_train[i], cmap=plt.get_cmap('gray'))\n",
    "    plt.title(y[i])\n",
    "    plt.xticks([])\n",
    "    plt.yticks([])"
   ],
   "metadata": {
    "collapsed": false,
    "pycharm": {
     "name": "#%%\n"
    }
   }
  },
  {
   "cell_type": "code",
   "execution_count": null,
   "outputs": [],
   "source": [
    "# добавим еще одно измерение для цветового канала\n",
    "X_train = X_train.reshape(X_train.shape[0], img_rows, img_cols, 1)\n",
    "X_test = X_test.reshape(X_test.shape[0], img_rows, img_cols, 1)\n"
   ],
   "metadata": {
    "collapsed": false,
    "pycharm": {
     "name": "#%%\n"
    }
   }
  },
  {
   "cell_type": "code",
   "execution_count": null,
   "outputs": [],
   "source": [
    "# нормализуем значения пикселей для упрощения обработки\n",
    "X_train = X_train / 255\n",
    "X_test = X_test / 255"
   ],
   "metadata": {
    "collapsed": false,
    "pycharm": {
     "name": "#%%\n"
    }
   }
  },
  {
   "cell_type": "code",
   "execution_count": null,
   "outputs": [],
   "source": [
    "# кодируем метки одним горячим кодировщиком (конвертировать в отдельные категории)\n",
    "y_train = to_categorical(y)\n"
   ],
   "metadata": {
    "collapsed": false,
    "pycharm": {
     "name": "#%%\n"
    }
   }
  },
  {
   "cell_type": "code",
   "execution_count": null,
   "outputs": [],
   "source": [
    "# разделим данные на набор для обучения и проверки (используется только для увеличения изображения, в противном случае выполняется при подгонке)\n",
    "X_gen, X_val, y_gen, y_val = train_test_split(X_train, y_train, test_size=0.1, random_state=42)"
   ],
   "metadata": {
    "collapsed": false,
    "pycharm": {
     "name": "#%%\n"
    }
   }
  },
  {
   "cell_type": "code",
   "execution_count": null,
   "outputs": [],
   "source": [
    "\n",
    "# применим некоторые улучшения к данным изображений, чтобы увеличить обучающие данные\n",
    "datagen = ImageDataGenerator(rotation_range=10,\n",
    "                             zoom_range=0.1,\n",
    "                             width_shift_range=0.1,\n",
    "                             height_shift_range=0.1)\n",
    "datagen.fit(X_gen)"
   ],
   "metadata": {
    "collapsed": false,
    "pycharm": {
     "name": "#%%\n"
    }
   }
  },
  {
   "cell_type": "code",
   "execution_count": null,
   "outputs": [],
   "source": [
    "# собрем модель\n",
    "model = Sequential()\n",
    "\n",
    "model.add(Conv2D(32, kernel_size=(5, 5),\n",
    "                 activation='relu',\n",
    "                 # pads the \"frames\" of the image with 0's, so that convolution reaches the edges\n",
    "                 padding='same',\n",
    "                 input_shape=(img_rows, img_cols, 1)))\n",
    "model.add(Dropout(0.2))\n",
    "model.add(Conv2D(32, kernel_size=(5, 5),\n",
    "                 padding='same',\n",
    "                 activation='relu'))\n",
    "model.add(Dropout(0.2))\n",
    "model.add(Conv2D(12, kernel_size=(3, 3),\n",
    "                 padding='same',\n",
    "                 activation='relu'))\n",
    "model.add(MaxPool2D(pool_size=(2, 2)))\n",
    "model.add(Dropout(0.2))\n",
    "\n",
    "\n",
    "model.add(Conv2D(64, kernel_size=(3, 3),\n",
    "                 padding='same',\n",
    "                 activation='relu'))\n",
    "model.add(Dropout(0.2))\n",
    "model.add(Conv2D(64, kernel_size=(3, 3),\n",
    "                 padding='same',\n",
    "                 activation='relu'))\n",
    "model.add(MaxPool2D(pool_size=(2, 2), strides=(2, 2)))\n",
    "model.add(Dropout(0.2))\n",
    "\n",
    "model.add(Flatten())\n",
    "model.add(Dense(256, activation='relu'))\n",
    "model.add(Dropout(0.5))\n",
    "model.add(Dense(10, activation='softmax'))\n"
   ],
   "metadata": {
    "collapsed": false,
    "pycharm": {
     "name": "#%%\n"
    }
   }
  },
  {
   "cell_type": "code",
   "execution_count": null,
   "outputs": [],
   "source": [
    "model.compile(loss='categorical_crossentropy',\n",
    "              optimizer='adam',\n",
    "              metrics=['accuracy'])\n"
   ],
   "metadata": {
    "collapsed": false,
    "pycharm": {
     "name": "#%%\n"
    }
   }
  },
  {
   "cell_type": "code",
   "execution_count": null,
   "outputs": [],
   "source": [
    "# сводка модели\n",
    "model.summary()\n"
   ],
   "metadata": {
    "collapsed": false,
    "pycharm": {
     "name": "#%%\n"
    }
   }
  },
  {
   "cell_type": "code",
   "execution_count": null,
   "outputs": [],
   "source": [
    "model.compile(optimizer='adam', loss='categorical_crossentropy', metrics=['acc'])"
   ],
   "metadata": {
    "collapsed": false,
    "pycharm": {
     "name": "#%%\n"
    }
   }
  },
  {
   "cell_type": "code",
   "execution_count": null,
   "outputs": [],
   "source": [
    "# обучим модель\n",
    "model.fit(datagen.flow(X_gen, y_gen, batch_size=420),\n",
    "                    epochs=6,\n",
    "                    validation_data=(X_val, y_val))\n"
   ],
   "metadata": {
    "collapsed": false,
    "pycharm": {
     "name": "#%%\n"
    }
   }
  },
  {
   "cell_type": "code",
   "execution_count": null,
   "outputs": [],
   "source": [
    "# сделаем прогноз\n",
    "preds = model.predict(X_test)\n",
    "print(preds)"
   ],
   "metadata": {
    "collapsed": false,
    "pycharm": {
     "name": "#%%\n"
    }
   }
  },
  {
   "cell_type": "code",
   "execution_count": null,
   "outputs": [],
   "source": [
    "# Вывод\n",
    "submissions = pd.read_csv('/kaggle/input/digit-recognizer/sample_submission.csv')\n",
    "submissions[\"Label\"] = preds.astype('int32')\n",
    "submissions.to_csv('submissions_TWO.csv', index = False)"
   ],
   "metadata": {
    "collapsed": false,
    "pycharm": {
     "name": "#%%\n"
    }
   }
  },
  {
   "cell_type": "markdown",
   "source": [
    "# Вывод\n",
    "submissions = pd.read_csv('/kaggle/input/digit-recognizer/sample_submission.csv')\n",
    "submissions[\"Label\"] = preds.astype('int32')\n",
    "submissions.to_csv('submissions_TWO.csv', index = False)"
   ],
   "metadata": {}
  },
  {
   "cell_type": "code",
   "source": "train_data = pd.read_csv(\"/kaggle/input/digit-recognizer/train.csv\")\nprint(train_data.shape)\nprint(train_data.head())\n# изображения сглаживаются (каждая строка содержит значения для одного изображения)\n# нам нужно изменить его форму, чтобы получить матрицу изображения (значения пикселей в оттенках серого в матрице 28 x 28)\n# но сначала мы разделяем метки и предикторы (y и x соответственно)\n# и преобразовать из фрейма данных Pandas в матрицу numpy (это то, что делает .values)\n\nX = (train_data.iloc[:, 1:].values).astype('float32')\ny = (train_data.iloc[:, 0].values).astype('int32')",
   "metadata": {
    "execution": {
     "iopub.status.busy": "2021-05-20T12:51:19.497407Z",
     "iopub.execute_input": "2021-05-20T12:51:19.498192Z",
     "iopub.status.idle": "2021-05-20T12:51:22.435365Z",
     "shell.execute_reply.started": "2021-05-20T12:51:19.498133Z",
     "shell.execute_reply": "2021-05-20T12:51:22.434330Z"
    },
    "trusted": true
   },
   "execution_count": 11,
   "outputs": [
    {
     "name": "stdout",
     "text": "(42000, 785)\n   label  pixel0  pixel1  pixel2  pixel3  pixel4  pixel5  pixel6  pixel7  \\\n0      1       0       0       0       0       0       0       0       0   \n1      0       0       0       0       0       0       0       0       0   \n2      1       0       0       0       0       0       0       0       0   \n3      4       0       0       0       0       0       0       0       0   \n4      0       0       0       0       0       0       0       0       0   \n\n   pixel8  ...  pixel774  pixel775  pixel776  pixel777  pixel778  pixel779  \\\n0       0  ...         0         0         0         0         0         0   \n1       0  ...         0         0         0         0         0         0   \n2       0  ...         0         0         0         0         0         0   \n3       0  ...         0         0         0         0         0         0   \n4       0  ...         0         0         0         0         0         0   \n\n   pixel780  pixel781  pixel782  pixel783  \n0         0         0         0         0  \n1         0         0         0         0  \n2         0         0         0         0  \n3         0         0         0         0  \n4         0         0         0         0  \n\n[5 rows x 785 columns]\n",
     "output_type": "stream"
    }
   ]
  },
  {
   "cell_type": "code",
   "source": "test_data = pd.read_csv(\"/kaggle/input/digit-recognizer/test.csv\")\nprint(test_data.shape)\ntest_data.head()\nX_test = test_data.values.astype('float32')\n",
   "metadata": {
    "execution": {
     "iopub.status.busy": "2021-05-20T12:51:24.753091Z",
     "iopub.execute_input": "2021-05-20T12:51:24.753504Z",
     "iopub.status.idle": "2021-05-20T12:51:26.580058Z",
     "shell.execute_reply.started": "2021-05-20T12:51:24.753470Z",
     "shell.execute_reply": "2021-05-20T12:51:26.579043Z"
    },
    "trusted": true
   },
   "execution_count": 12,
   "outputs": [
    {
     "name": "stdout",
     "text": "(28000, 784)\n",
     "output_type": "stream"
    }
   ]
  },
  {
   "cell_type": "code",
   "source": "submission_data = pd.read_csv(\"/kaggle/input/digit-recognizer/sample_submission.csv\")\nprint(submission_data.shape)\nsubmission_data.head()",
   "metadata": {
    "execution": {
     "iopub.status.busy": "2021-05-20T12:51:27.891923Z",
     "iopub.execute_input": "2021-05-20T12:51:27.892281Z",
     "iopub.status.idle": "2021-05-20T12:51:27.921290Z",
     "shell.execute_reply.started": "2021-05-20T12:51:27.892250Z",
     "shell.execute_reply": "2021-05-20T12:51:27.920481Z"
    },
    "trusted": true
   },
   "execution_count": 13,
   "outputs": [
    {
     "name": "stdout",
     "text": "(28000, 2)\n",
     "output_type": "stream"
    },
    {
     "execution_count": 13,
     "output_type": "execute_result",
     "data": {
      "text/plain": "   ImageId  Label\n0        1      0\n1        2      0\n2        3      0\n3        4      0\n4        5      0",
      "text/html": "<div>\n<style scoped>\n    .dataframe tbody tr th:only-of-type {\n        vertical-align: middle;\n    }\n\n    .dataframe tbody tr th {\n        vertical-align: top;\n    }\n\n    .dataframe thead th {\n        text-align: right;\n    }\n</style>\n<table border=\"1\" class=\"dataframe\">\n  <thead>\n    <tr style=\"text-align: right;\">\n      <th></th>\n      <th>ImageId</th>\n      <th>Label</th>\n    </tr>\n  </thead>\n  <tbody>\n    <tr>\n      <th>0</th>\n      <td>1</td>\n      <td>0</td>\n    </tr>\n    <tr>\n      <th>1</th>\n      <td>2</td>\n      <td>0</td>\n    </tr>\n    <tr>\n      <th>2</th>\n      <td>3</td>\n      <td>0</td>\n    </tr>\n    <tr>\n      <th>3</th>\n      <td>4</td>\n      <td>0</td>\n    </tr>\n    <tr>\n      <th>4</th>\n      <td>5</td>\n      <td>0</td>\n    </tr>\n  </tbody>\n</table>\n</div>"
     },
     "metadata": {}
    }
   ]
  },
  {
   "cell_type": "code",
   "source": "img_rows, img_cols = 28, 28\nnum_classes = 10  # digits 0 - 9\n\nX_train = X.reshape(X.shape[0], img_rows, img_cols)\nX_test = X_test.reshape(X_test.shape[0], img_rows, img_cols)",
   "metadata": {
    "execution": {
     "iopub.status.busy": "2021-05-20T12:52:25.529293Z",
     "iopub.execute_input": "2021-05-20T12:52:25.529741Z",
     "iopub.status.idle": "2021-05-20T12:52:25.535342Z",
     "shell.execute_reply.started": "2021-05-20T12:52:25.529703Z",
     "shell.execute_reply": "2021-05-20T12:52:25.534291Z"
    },
    "trusted": true
   },
   "execution_count": 15,
   "outputs": []
  },
  {
   "cell_type": "code",
   "source": "# Построим изображения для проверки работоспособности\n\nfor i in range(5, 8):\n    plt.subplot(130 + (-4+i))\n    plt.imshow(X_train[i], cmap=plt.get_cmap('gray'))\n    plt.title(y[i])\n    plt.xticks([])\n    plt.yticks([])",
   "metadata": {
    "execution": {
     "iopub.status.busy": "2021-05-20T12:52:27.840024Z",
     "iopub.execute_input": "2021-05-20T12:52:27.840361Z",
     "iopub.status.idle": "2021-05-20T12:52:27.978929Z",
     "shell.execute_reply.started": "2021-05-20T12:52:27.840331Z",
     "shell.execute_reply": "2021-05-20T12:52:27.977944Z"
    },
    "trusted": true
   },
   "execution_count": 16,
   "outputs": [
    {
     "output_type": "display_data",
     "data": {
      "text/plain": "<Figure size 432x288 with 3 Axes>",
      "image/png": "[encoded data removed]"
     },
     "metadata": {}
    }
   ]
  },
  {
   "cell_type": "code",
   "source": "# добавим еще одно измерение для цветового канала\nX_train = X_train.reshape(X_train.shape[0], img_rows, img_cols, 1)\nX_test = X_test.reshape(X_test.shape[0], img_rows, img_cols, 1)\n",
   "metadata": {
    "execution": {
     "iopub.status.busy": "2021-05-20T12:52:29.808986Z",
     "iopub.execute_input": "2021-05-20T12:52:29.809344Z",
     "iopub.status.idle": "2021-05-20T12:52:29.814424Z",
     "shell.execute_reply.started": "2021-05-20T12:52:29.809315Z",
     "shell.execute_reply": "2021-05-20T12:52:29.813461Z"
    },
    "trusted": true
   },
   "execution_count": 17,
   "outputs": []
  },
  {
   "cell_type": "code",
   "source": "# нормализуем значения пикселей для упрощения обработки\nX_train = X_train / 255\nX_test = X_test / 255",
   "metadata": {
    "execution": {
     "iopub.status.busy": "2021-05-20T12:52:32.892170Z",
     "iopub.execute_input": "2021-05-20T12:52:32.892549Z",
     "iopub.status.idle": "2021-05-20T12:52:32.985884Z",
     "shell.execute_reply.started": "2021-05-20T12:52:32.892515Z",
     "shell.execute_reply": "2021-05-20T12:52:32.984748Z"
    },
    "trusted": true
   },
   "execution_count": 18,
   "outputs": []
  },
  {
   "cell_type": "code",
   "source": "# кодируем метки одним горячим кодировщиком (конвертировать в отдельные категории)\ny_train = to_categorical(y)\n",
   "metadata": {
    "execution": {
     "iopub.status.busy": "2021-05-20T12:52:37.822560Z",
     "iopub.execute_input": "2021-05-20T12:52:37.822915Z",
     "iopub.status.idle": "2021-05-20T12:52:37.827958Z",
     "shell.execute_reply.started": "2021-05-20T12:52:37.822883Z",
     "shell.execute_reply": "2021-05-20T12:52:37.826966Z"
    },
    "trusted": true
   },
   "execution_count": 19,
   "outputs": []
  },
  {
   "cell_type": "code",
   "source": "# разделим данные на набор для обучения и проверки (используется только для увеличения изображения, в противном случае выполняется при подгонке)\nX_gen, X_val, y_gen, y_val = train_test_split(X_train, y_train, test_size=0.1, random_state=42)",
   "metadata": {
    "execution": {
     "iopub.status.busy": "2021-05-20T12:52:39.670757Z",
     "iopub.execute_input": "2021-05-20T12:52:39.671085Z",
     "iopub.status.idle": "2021-05-20T12:52:40.035157Z",
     "shell.execute_reply.started": "2021-05-20T12:52:39.671057Z",
     "shell.execute_reply": "2021-05-20T12:52:40.034088Z"
    },
    "trusted": true
   },
   "execution_count": 20,
   "outputs": []
  },
  {
   "cell_type": "code",
   "source": "\n# применим некоторые улучшения к данным изображений, чтобы увеличить обучающие данные\ndatagen = ImageDataGenerator(rotation_range=10,\n                             zoom_range=0.1,\n                             width_shift_range=0.1,\n                             height_shift_range=0.1)\ndatagen.fit(X_gen)",
   "metadata": {
    "execution": {
     "iopub.status.busy": "2021-05-20T12:52:41.804059Z",
     "iopub.execute_input": "2021-05-20T12:52:41.804382Z",
     "iopub.status.idle": "2021-05-20T12:52:41.864797Z",
     "shell.execute_reply.started": "2021-05-20T12:52:41.804354Z",
     "shell.execute_reply": "2021-05-20T12:52:41.863697Z"
    },
    "trusted": true
   },
   "execution_count": 21,
   "outputs": []
  },
  {
   "cell_type": "code",
   "source": "# собрем модель\nmodel = Sequential()\n\nmodel.add(Conv2D(32, kernel_size=(5, 5),\n                 activation='relu',\n                 # pads the \"frames\" of the image with 0's, so that convolution reaches the edges\n                 padding='same',\n                 input_shape=(img_rows, img_cols, 1)))\nmodel.add(Dropout(0.2))\nmodel.add(Conv2D(32, kernel_size=(5, 5),\n                 padding='same',\n                 activation='relu'))\nmodel.add(Dropout(0.2))\nmodel.add(Conv2D(12, kernel_size=(3, 3),\n                 padding='same',\n                 activation='relu'))\nmodel.add(MaxPool2D(pool_size=(2, 2)))\nmodel.add(Dropout(0.2))\n\n\nmodel.add(Conv2D(64, kernel_size=(3, 3),\n                 padding='same',\n                 activation='relu'))\nmodel.add(Dropout(0.2))\nmodel.add(Conv2D(64, kernel_size=(3, 3),\n                 padding='same',\n                 activation='relu'))\nmodel.add(MaxPool2D(pool_size=(2, 2), strides=(2, 2)))\nmodel.add(Dropout(0.2))\n\nmodel.add(Flatten())\nmodel.add(Dense(256, activation='relu'))\nmodel.add(Dropout(0.5))\nmodel.add(Dense(10, activation='softmax'))\n",
   "metadata": {
    "execution": {
     "iopub.status.busy": "2021-05-20T12:52:45.873739Z",
     "iopub.execute_input": "2021-05-20T12:52:45.874113Z",
     "iopub.status.idle": "2021-05-20T12:52:46.068191Z",
     "shell.execute_reply.started": "2021-05-20T12:52:45.874077Z",
     "shell.execute_reply": "2021-05-20T12:52:46.067384Z"
    },
    "trusted": true
   },
   "execution_count": 22,
   "outputs": []
  },
  {
   "cell_type": "code",
   "source": "model.compile(loss='categorical_crossentropy',\n              optimizer='adam',\n              metrics=['accuracy'])\n",
   "metadata": {
    "execution": {
     "iopub.status.busy": "2021-05-20T12:52:50.217721Z",
     "iopub.execute_input": "2021-05-20T12:52:50.218053Z",
     "iopub.status.idle": "2021-05-20T12:52:50.235275Z",
     "shell.execute_reply.started": "2021-05-20T12:52:50.218025Z",
     "shell.execute_reply": "2021-05-20T12:52:50.234299Z"
    },
    "trusted": true
   },
   "execution_count": 23,
   "outputs": []
  },
  {
   "cell_type": "code",
   "source": "# сводка модели\nmodel.summary()\n",
   "metadata": {
    "execution": {
     "iopub.status.busy": "2021-05-20T12:52:51.817279Z",
     "iopub.execute_input": "2021-05-20T12:52:51.817662Z",
     "iopub.status.idle": "2021-05-20T12:52:51.829346Z",
     "shell.execute_reply.started": "2021-05-20T12:52:51.817630Z",
     "shell.execute_reply": "2021-05-20T12:52:51.828411Z"
    },
    "trusted": true
   },
   "execution_count": 24,
   "outputs": [
    {
     "name": "stdout",
     "text": "Model: \"sequential\"\n_________________________________________________________________\nLayer (type)                 Output Shape              Param #   \n=================================================================\nconv2d (Conv2D)              (None, 28, 28, 32)        832       \n_________________________________________________________________\ndropout (Dropout)            (None, 28, 28, 32)        0         \n_________________________________________________________________\nconv2d_1 (Conv2D)            (None, 28, 28, 32)        25632     \n_________________________________________________________________\ndropout_1 (Dropout)          (None, 28, 28, 32)        0         \n_________________________________________________________________\nconv2d_2 (Conv2D)            (None, 28, 28, 12)        3468      \n_________________________________________________________________\nmax_pooling2d (MaxPooling2D) (None, 14, 14, 12)        0         \n_________________________________________________________________\ndropout_2 (Dropout)          (None, 14, 14, 12)        0         \n_________________________________________________________________\nconv2d_3 (Conv2D)            (None, 14, 14, 64)        6976      \n_________________________________________________________________\ndropout_3 (Dropout)          (None, 14, 14, 64)        0         \n_________________________________________________________________\nconv2d_4 (Conv2D)            (None, 14, 14, 64)        36928     \n_________________________________________________________________\nmax_pooling2d_1 (MaxPooling2 (None, 7, 7, 64)          0         \n_________________________________________________________________\ndropout_4 (Dropout)          (None, 7, 7, 64)          0         \n_________________________________________________________________\nflatten (Flatten)            (None, 3136)              0         \n_________________________________________________________________\ndense (Dense)                (None, 256)               803072    \n_________________________________________________________________\ndropout_5 (Dropout)          (None, 256)               0         \n_________________________________________________________________\ndense_1 (Dense)              (None, 10)                2570      \n=================================================================\nTotal params: 879,478\nTrainable params: 879,478\nNon-trainable params: 0\n_________________________________________________________________\n",
     "output_type": "stream"
    }
   ]
  },
  {
   "cell_type": "code",
   "source": "model.compile(optimizer='adam', loss='categorical_crossentropy', metrics=['acc'])",
   "metadata": {
    "execution": {
     "iopub.status.busy": "2021-05-20T12:52:54.169016Z",
     "iopub.execute_input": "2021-05-20T12:52:54.169354Z",
     "iopub.status.idle": "2021-05-20T12:52:54.183029Z",
     "shell.execute_reply.started": "2021-05-20T12:52:54.169326Z",
     "shell.execute_reply": "2021-05-20T12:52:54.182092Z"
    },
    "trusted": true
   },
   "execution_count": 25,
   "outputs": []
  },
  {
   "cell_type": "code",
   "source": "# обучим модель\nmodel.fit(datagen.flow(X_gen, y_gen, batch_size=420),\n                    epochs=6,\n                    validation_data=(X_val, y_val))\n",
   "metadata": {
    "execution": {
     "iopub.status.busy": "2021-05-20T12:53:03.868652Z",
     "iopub.execute_input": "2021-05-20T12:53:03.869058Z",
     "iopub.status.idle": "2021-05-20T13:09:36.368717Z",
     "shell.execute_reply.started": "2021-05-20T12:53:03.869025Z",
     "shell.execute_reply": "2021-05-20T13:09:36.367651Z"
    },
    "trusted": true
   },
   "execution_count": 27,
   "outputs": [
    {
     "name": "stdout",
     "text": "Epoch 1/6\n90/90 [==============================] - 166s 2s/step - loss: 0.8629 - acc: 0.7110 - val_loss: 0.1101 - val_acc: 0.9676\nEpoch 2/6\n90/90 [==============================] - 165s 2s/step - loss: 0.2307 - acc: 0.9308 - val_loss: 0.0717 - val_acc: 0.9783\nEpoch 3/6\n90/90 [==============================] - 166s 2s/step - loss: 0.1642 - acc: 0.9506 - val_loss: 0.0627 - val_acc: 0.9829\nEpoch 4/6\n90/90 [==============================] - 165s 2s/step - loss: 0.1324 - acc: 0.9610 - val_loss: 0.0473 - val_acc: 0.9852\nEpoch 5/6\n90/90 [==============================] - 165s 2s/step - loss: 0.1175 - acc: 0.9653 - val_loss: 0.0401 - val_acc: 0.9895\nEpoch 6/6\n90/90 [==============================] - 166s 2s/step - loss: 0.1014 - acc: 0.9703 - val_loss: 0.0379 - val_acc: 0.9879\n",
     "output_type": "stream"
    },
    {
     "execution_count": 27,
     "output_type": "execute_result",
     "data": {
      "text/plain": "<tensorflow.python.keras.callbacks.History at 0x7f3fcc0fa250>"
     },
     "metadata": {}
    }
   ]
  },
  {
   "cell_type": "code",
   "source": "# сделаем прогноз\npreds = model.predict(X_test)\nprint(preds)",
   "metadata": {
    "execution": {
     "iopub.status.busy": "2021-05-20T13:20:12.268010Z",
     "iopub.execute_input": "2021-05-20T13:20:12.268365Z",
     "iopub.status.idle": "2021-05-20T13:20:36.459415Z",
     "shell.execute_reply.started": "2021-05-20T13:20:12.268335Z",
     "shell.execute_reply": "2021-05-20T13:20:36.458487Z"
    },
    "trusted": true
   },
   "execution_count": 28,
   "outputs": [
    {
     "name": "stdout",
     "text": "[[3.0120140e-07 6.7529612e-07 9.9996471e-01 ... 1.0151785e-05\n  3.6755114e-07 4.9087969e-08]\n [9.9938703e-01 7.5898070e-09 9.0216290e-06 ... 1.0980252e-06\n  4.3695527e-06 4.9173768e-04]\n [1.1165035e-05 3.7490777e-06 8.7428252e-06 ... 4.6145833e-05\n  1.2953163e-02 9.8572218e-01]\n ...\n [3.5540404e-11 2.5741247e-09 9.1847738e-09 ... 3.7656314e-08\n  2.8874135e-08 1.8997233e-07]\n [2.0595703e-06 2.2419535e-08 4.6523478e-08 ... 8.5959065e-05\n  5.8658775e-06 9.9953437e-01]\n [2.9607386e-07 1.3874962e-08 9.9998260e-01 ... 5.5512182e-08\n  1.2524271e-05 2.7238805e-08]]\n",
     "output_type": "stream"
    }
   ]
  },
  {
   "cell_type": "code",
   "source": "# Вывод\nsubmissions = pd.read_csv('/kaggle/input/digit-recognizer/sample_submission.csv')\nsubmissions[\"Label\"] = preds.astype('int32')\nsubmissions.to_csv('submissions_TWO.csv', index = False)",
   "metadata": {
    "execution": {
     "iopub.status.busy": "2021-05-20T13:20:44.529255Z",
     "iopub.execute_input": "2021-05-20T13:20:44.529633Z",
     "iopub.status.idle": "2021-05-20T13:20:44.593609Z",
     "shell.execute_reply.started": "2021-05-20T13:20:44.529602Z",
     "shell.execute_reply": "2021-05-20T13:20:44.592633Z"
    },
    "trusted": true
   },
   "execution_count": 30,
   "outputs": []
  }
 ]
}