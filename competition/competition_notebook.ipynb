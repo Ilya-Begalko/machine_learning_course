{
 "cells": [
  {
   "cell_type": "markdown",
   "id": "forty-gambling",
   "metadata": {
    "papermill": {
     "duration": 0.024397,
     "end_time": "2021-05-20T18:09:15.022827",
     "exception": false,
     "start_time": "2021-05-20T18:09:14.998430",
     "status": "completed"
    },
    "tags": []
   },
   "source": [
    "# Вступление\n",
    "Цель - создать набор данных и простую (1 скрытый слой) сеть для целей классификации. Я хочу, чтобы все было как можно более замкнутым. Возможно, есть более гибкие конструкции, но я сосредоточен только на решении классификатора цифр MNIST.\n",
    "\n",
    "Прежде всего, полезный импорт."
   ]
  },
  {
   "cell_type": "code",
   "execution_count": 1,
   "id": "fifth-dallas",
   "metadata": {
    "execution": {
     "iopub.execute_input": "2021-05-20T18:09:15.084696Z",
     "iopub.status.busy": "2021-05-20T18:09:15.084154Z",
     "iopub.status.idle": "2021-05-20T18:09:23.902579Z",
     "shell.execute_reply": "2021-05-20T18:09:23.902960Z",
     "shell.execute_reply.started": "2021-05-20T16:32:52.713948Z"
    },
    "papermill": {
     "duration": 8.856891,
     "end_time": "2021-05-20T18:09:23.903192",
     "exception": false,
     "start_time": "2021-05-20T18:09:15.046301",
     "status": "completed"
    },
    "tags": []
   },
   "outputs": [
    {
     "name": "stdout",
     "output_type": "stream",
     "text": [
      "/kaggle/input/digit-recognizer/sample_submission.csv\n",
      "/kaggle/input/digit-recognizer/train.csv\n",
      "/kaggle/input/digit-recognizer/test.csv\n"
     ]
    }
   ],
   "source": [
    "import numpy as np\n",
    "import pandas as pd\n",
    "\n",
    "import torch\n",
    "import torch.nn as nn\n",
    "from torch.utils.data import Dataset, DataLoader\n",
    "from torch.utils.data.sampler import SubsetRandomSampler\n",
    "import torch.nn.functional as F\n",
    "\n",
    "import os\n",
    "from sklearn.model_selection import train_test_split\n",
    "\n",
    "import matplotlib.pyplot as plt\n",
    "\n",
    "from keras.models import Sequential\n",
    "from keras.layers import Dense, Dropout, Conv2D, Flatten, MaxPool2D\n",
    "from keras.utils import to_categorical\n",
    "from keras.preprocessing.image import ImageDataGenerator\n",
    "import seaborn as sns\n",
    "import matplotlib.pyplot as plt\n",
    "import sklearn\n",
    "import tensorflow as tf\n",
    "for dirname, _, filenames in os.walk('/kaggle/input'):\n",
    "    for filename in filenames:\n",
    "        print(os.path.join(dirname, filename))"
   ]
  },
  {
   "cell_type": "markdown",
   "id": "indoor-emergency",
   "metadata": {
    "papermill": {
     "duration": 0.022776,
     "end_time": "2021-05-20T18:09:23.949499",
     "exception": false,
     "start_time": "2021-05-20T18:09:23.926723",
     "status": "completed"
    },
    "tags": []
   },
   "source": [
    "## 1. Создайем загрузчики данных\n",
    "Самым сложным здесь было получение правильных форм и типов. Есть 2 объекта: один для обучающего набора (который возвращает данные и истинную метку) и один для тестового набора (который возвращает только данные).\n",
    "Поскольку в этой простой модели нас не интересует форма, данные возвращаются в виде вектора длиной 784."
   ]
  },
  {
   "cell_type": "code",
   "execution_count": 2,
   "id": "scientific-mapping",
   "metadata": {
    "execution": {
     "iopub.execute_input": "2021-05-20T18:09:24.011408Z",
     "iopub.status.busy": "2021-05-20T18:09:24.010867Z",
     "iopub.status.idle": "2021-05-20T18:09:24.014142Z",
     "shell.execute_reply": "2021-05-20T18:09:24.013542Z",
     "shell.execute_reply.started": "2021-05-20T16:33:03.875713Z"
    },
    "papermill": {
     "duration": 0.041786,
     "end_time": "2021-05-20T18:09:24.014280",
     "exception": false,
     "start_time": "2021-05-20T18:09:23.972494",
     "status": "completed"
    },
    "tags": []
   },
   "outputs": [],
   "source": [
    "class KaggleMNIST(Dataset):\n",
    "    \"\"\"Пользовательский набор данных для использования с pytorch.\n",
    "     Даже если у pytorch есть набор данных MNIST, для участия в Kaggle\n",
    "     конкуренция, нам лучше использовать набор данных Kaggle.\n",
    "     Этот класс загружает только набор данных поезда (изображения + метки).\n",
    "    \"\"\"\n",
    "    \n",
    "    def __init__(self, path):\n",
    "        data = np.loadtxt(path + 'train.csv', delimiter=',', skiprows=1, dtype=np.float32)\n",
    "        self._digits = torch.from_numpy(data[:, 1:]) / 255\n",
    "        self._labels = torch.from_numpy(data[:, 0]).type(torch.long)\n",
    "        self._size = len(data)\n",
    "        print('Training dataset with MNIST digits loaded.')\n",
    "        print('  Digits has shape:', self._digits.shape)\n",
    "        print('  Labels has shape:', self._labels.shape)\n",
    "        \n",
    "    def __getitem__(self, idx):\n",
    "        return (self._digits[idx], self._labels[idx])\n",
    "    \n",
    "    def __len__(self):\n",
    "        return self._size\n",
    "    \n",
    "class KaggleMNIST_test(Dataset):\n",
    "    \"\"\"Пользовательский набор данных для использования с pytorch.\n",
    "     Даже если у pytorch есть набор данных MNIST, для участия в Kaggle\n",
    "     конкуренция, нам лучше использовать набор данных Kaggle.\n",
    "     Этот класс загружает только тестовый набор данных (изображения).\n",
    "    \"\"\"\n",
    "    \n",
    "    def __init__(self, path):\n",
    "        data = np.loadtxt(path + 'test.csv', delimiter=',', skiprows=1, dtype=np.float32)\n",
    "        self._digits = torch.from_numpy(data) / 256\n",
    "        self._size = len(data)\n",
    "        print('Testing dataset with MNIST digits loaded.')\n",
    "        print('  Digits has shape:', self._digits.shape)\n",
    "        \n",
    "    def __getitem__(self, idx):\n",
    "        return self._digits[idx]\n",
    "    \n",
    "    def __len__(self):\n",
    "        return self._size"
   ]
  },
  {
   "cell_type": "markdown",
   "id": "spanish-kitchen",
   "metadata": {
    "papermill": {
     "duration": 0.035113,
     "end_time": "2021-05-20T18:09:24.084860",
     "exception": false,
     "start_time": "2021-05-20T18:09:24.049747",
     "status": "completed"
    },
    "tags": []
   },
   "source": [
    "## 2. Вспомогательная функция\n",
    "Цель этой функции - уменьшить беспорядок."
   ]
  },
  {
   "cell_type": "code",
   "execution_count": 3,
   "id": "square-shanghai",
   "metadata": {
    "execution": {
     "iopub.execute_input": "2021-05-20T18:09:24.158509Z",
     "iopub.status.busy": "2021-05-20T18:09:24.157907Z",
     "iopub.status.idle": "2021-05-20T18:09:24.162714Z",
     "shell.execute_reply": "2021-05-20T18:09:24.163323Z",
     "shell.execute_reply.started": "2021-05-20T16:33:09.593430Z"
    },
    "papermill": {
     "duration": 0.04317,
     "end_time": "2021-05-20T18:09:24.163469",
     "exception": false,
     "start_time": "2021-05-20T18:09:24.120299",
     "status": "completed"
    },
    "tags": []
   },
   "outputs": [],
   "source": [
    "def create_samplers(size, train_prop):\n",
    "    \"\"\"Функция, которая создает 2 подмножества из набора обучающих данных, одно из которых\n",
    "     используйте din-обучение, а другое - для проверки.\n",
    "    \n",
    "     Параметры\n",
    "     ----------\n",
    "     размер: числовой, целочисленный.\n",
    "         Количество элементов в наборе данных, которые нужно разделить на набор поездов и\n",
    "         набор для проверки.\n",
    "     train_prop: Числовое, с плавающей запятой.\n",
    "         Число от 0 до 1, определяющее пропорцию элементов.\n",
    "         который будет включен в набор для проверки.\n",
    "\n",
    "     Return\n",
    "     -------\n",
    "     Кортеж с двумя объектами SubsetRandomSampler, первый из которых будет использоваться с\n",
    "     обучающий DataLoader, а второй - с проверкой DataLoader.\n",
    "    \"\"\"\n",
    "    cut_point = int(size * train_prop)\n",
    "    shuffled = np.random.permutation(size)\n",
    "    train_sampler = SubsetRandomSampler(shuffled[:cut_point])\n",
    "    validation_sampler = SubsetRandomSampler(shuffled[cut_point:])\n",
    "    return train_sampler, validation_sampler"
   ]
  },
  {
   "cell_type": "markdown",
   "id": "normal-aircraft",
   "metadata": {
    "papermill": {
     "duration": 0.034926,
     "end_time": "2021-05-20T18:09:24.234090",
     "exception": false,
     "start_time": "2021-05-20T18:09:24.199164",
     "status": "completed"
    },
    "tags": []
   },
   "source": [
    "## 3. Модель\n",
    "Для этой задачи функцией потерь является кросс-энтропия, а оптимизация выполняется с помощью стохастического градиентного спуска. Скрытые слои имеют функцию активации LeakyReLU, но я не видел, чтобы она была лучше или хуже, чем простой ReLU. Использование signoid показало несколько худшие результаты. Больше ничего не пробовал.\n",
    "Модель принимает заряжающие, а точность встроена.\n",
    "Проверка - это частный метод, поскольку он используется во время обучения, а результаты (эволюция потерь и точности) выводятся на экран и возвращаются методом fit () в случае, если пользователь хочет что-то сделать."
   ]
  },
  {
   "cell_type": "code",
   "execution_count": 4,
   "id": "streaming-quick",
   "metadata": {
    "execution": {
     "iopub.execute_input": "2021-05-20T18:09:24.307243Z",
     "iopub.status.busy": "2021-05-20T18:09:24.306716Z",
     "iopub.status.idle": "2021-05-20T18:09:24.324002Z",
     "shell.execute_reply": "2021-05-20T18:09:24.324348Z",
     "shell.execute_reply.started": "2021-05-20T16:33:14.215435Z"
    },
    "papermill": {
     "duration": 0.055268,
     "end_time": "2021-05-20T18:09:24.324485",
     "exception": false,
     "start_time": "2021-05-20T18:09:24.269217",
     "status": "completed"
    },
    "tags": []
   },
   "outputs": [],
   "source": [
    "class MLP_1_HL_Classification(nn.Module):\n",
    "    \"\"\"Простой многослойный перцептрон с одним скрытым слоем, использующий\n",
    "     LeakyReLU как функция активации и кросс-энтропия как функция потерь,\n",
    "     быть примененным к задачам классификации.\n",
    "     Первая попытка поместить все в объект, поэтому модель\n",
    "     самодостаточный. Не уверен, действительно ли это необходимо.\n",
    "    \"\"\"\n",
    "\n",
    "    def __init__(self, input_size, hidden_size, output_size):\n",
    "        super().__init__()\n",
    "        self._input_size = input_size\n",
    "        self._hidden_size = hidden_size\n",
    "        self._output_size = output_size\n",
    "        self.train_loader = None\n",
    "        self.validation_loader = None\n",
    "        self._optimizer_fn = torch.optim.SGD\n",
    "        self._loss_fn = F.cross_entropy\n",
    "        self._net = nn.Sequential(\n",
    "            nn.Linear(self._input_size, self._hidden_size),\n",
    "            nn.LeakyReLU(),\n",
    "            nn.Linear(self._hidden_size, self._output_size))\n",
    "        \n",
    "    def forward(self, batch):\n",
    "        return self._net(batch)\n",
    "    \n",
    "    def define_loaders(self, train, validation):\n",
    "        self.train_loader = train\n",
    "        self.validation_loader = validation\n",
    "            \n",
    "    def _accuracy(self, outputs, labels):\n",
    "        preds = torch.max(outputs, dim=1)[1]\n",
    "        return torch.tensor(torch.sum(preds == labels).item() / len(preds))\n",
    "                \n",
    "    def _validation_with_batch(self, batch):\n",
    "        images, labels = batch \n",
    "        preds = self(images)\n",
    "        loss = self._loss_fn(preds, labels, reduction='sum')\n",
    "        acc = self._accuracy(preds, labels) * len(labels)\n",
    "        return {'loss': loss, 'accuracy': acc}\n",
    "        \n",
    "    def _evaluate(self):\n",
    "        with torch.no_grad():\n",
    "            outputs = [self._validation_with_batch(batch) for batch in self.validation_loader]\n",
    "        samples = len(self.validation_loader.sampler.indices)\n",
    "        batch_losses = [x['loss'] for x in outputs]\n",
    "        epoch_loss = torch.stack(batch_losses).sum() / samples\n",
    "        batch_accuracies = [x['accuracy'] for x in outputs]\n",
    "        epoch_accuracy = torch.stack(batch_accuracies).sum() / samples\n",
    "        return {'loss': epoch_loss.item(), 'accuracy': epoch_accuracy.item()}\n",
    "    \n",
    "    def fit(self, epochs, learning_rate):\n",
    "        print(f'Training the model for {epochs} epochs with learning rate {learning_rate}.')\n",
    "        optim = self._optimizer_fn(self.parameters(), learning_rate)\n",
    "        history = []\n",
    "        for epoch in range(epochs):\n",
    "            # Training Phase \n",
    "            for batch in self.train_loader:\n",
    "                images, labels = batch \n",
    "                loss = self._loss_fn(self(images), labels)\n",
    "                loss.backward()\n",
    "                optim.step()\n",
    "                optim.zero_grad()\n",
    "            # Оценка эпох с помощью набора данных проверки.\n",
    "            result = self._evaluate()\n",
    "            print(\"Epoch [{}], loss: {:.4f}, accuracy: {:.4f}\".format(epoch, result['loss'], result['accuracy']))\n",
    "            history.append(result)\n",
    "        return history  \n"
   ]
  },
  {
   "cell_type": "markdown",
   "id": "polar-option",
   "metadata": {
    "papermill": {
     "duration": 0.023432,
     "end_time": "2021-05-20T18:09:24.370975",
     "exception": false,
     "start_time": "2021-05-20T18:09:24.347543",
     "status": "completed"
    },
    "tags": []
   },
   "source": [
    "## 4. Загрузка данных"
   ]
  },
  {
   "cell_type": "code",
   "execution_count": 5,
   "id": "interracial-eight",
   "metadata": {
    "execution": {
     "iopub.execute_input": "2021-05-20T18:09:24.420499Z",
     "iopub.status.busy": "2021-05-20T18:09:24.420002Z",
     "iopub.status.idle": "2021-05-20T18:10:01.133268Z",
     "shell.execute_reply": "2021-05-20T18:10:01.133654Z",
     "shell.execute_reply.started": "2021-05-20T16:33:31.018654Z"
    },
    "papermill": {
     "duration": 36.739725,
     "end_time": "2021-05-20T18:10:01.133808",
     "exception": false,
     "start_time": "2021-05-20T18:09:24.394083",
     "status": "completed"
    },
    "tags": []
   },
   "outputs": [
    {
     "name": "stdout",
     "output_type": "stream",
     "text": [
      "Training dataset with MNIST digits loaded.\n",
      "  Digits has shape: torch.Size([42000, 784])\n",
      "  Labels has shape: torch.Size([42000])\n",
      "Testing dataset with MNIST digits loaded.\n",
      "  Digits has shape: torch.Size([28000, 784])\n"
     ]
    }
   ],
   "source": [
    "train_set = KaggleMNIST('../input/digit-recognizer/')\n",
    "test_set = KaggleMNIST_test('../input/digit-recognizer/')"
   ]
  },
  {
   "cell_type": "markdown",
   "id": "pregnant-algeria",
   "metadata": {
    "papermill": {
     "duration": 0.023285,
     "end_time": "2021-05-20T18:10:01.181677",
     "exception": false,
     "start_time": "2021-05-20T18:10:01.158392",
     "status": "completed"
    },
    "tags": []
   },
   "source": [
    "## 5. Дальнейшая настройка"
   ]
  },
  {
   "cell_type": "code",
   "execution_count": 6,
   "id": "pacific-bunny",
   "metadata": {
    "execution": {
     "iopub.execute_input": "2021-05-20T18:10:01.232402Z",
     "iopub.status.busy": "2021-05-20T18:10:01.231892Z",
     "iopub.status.idle": "2021-05-20T18:10:01.240290Z",
     "shell.execute_reply": "2021-05-20T18:10:01.239708Z",
     "shell.execute_reply.started": "2021-05-20T16:34:06.777148Z"
    },
    "papermill": {
     "duration": 0.035155,
     "end_time": "2021-05-20T18:10:01.240400",
     "exception": false,
     "start_time": "2021-05-20T18:10:01.205245",
     "status": "completed"
    },
    "tags": []
   },
   "outputs": [
    {
     "name": "stdout",
     "output_type": "stream",
     "text": [
      "Size of training set: 33600.\n",
      "Size of validation set: 8400.\n"
     ]
    }
   ],
   "source": [
    "batch_size = 80\n",
    "hidden_layer = 500\n",
    "\n",
    "train_sampler, validation_sampler = create_samplers(len(train_set), 0.8)\n",
    "\n",
    "print(f'Size of training set: {len(train_sampler.indices)}.')\n",
    "print(f'Size of validation set: {len(validation_sampler.indices)}.')\n",
    "\n",
    "train_loader = DataLoader(train_set, batch_size, sampler = train_sampler)\n",
    "validation_loader = DataLoader(train_set, batch_size, sampler = validation_sampler)"
   ]
  },
  {
   "cell_type": "markdown",
   "id": "greenhouse-spirituality",
   "metadata": {
    "papermill": {
     "duration": 0.024072,
     "end_time": "2021-05-20T18:10:01.289170",
     "exception": false,
     "start_time": "2021-05-20T18:10:01.265098",
     "status": "completed"
    },
    "tags": []
   },
   "source": [
    "## 6. Создайте модель и обучите ее\n",
    "Учитывая, что мы знаем набор данных, размеры входного и выходного слоев являются константами.\n",
    "\n",
    "Метод подгонки предназначен для последовательных вызовов, изменяющих эпохи и скорость обучения. Показанные здесь были найдены методом проб и ошибок. Эта сеть, кажется, имеет максимальную точность 97%, и большее количество эпох или больший скрытый слой не улучшают ее, по крайней мере, в моих попытках."
   ]
  },
  {
   "cell_type": "code",
   "execution_count": 7,
   "id": "latin-lyric",
   "metadata": {
    "execution": {
     "iopub.execute_input": "2021-05-20T18:10:01.344569Z",
     "iopub.status.busy": "2021-05-20T18:10:01.343923Z",
     "iopub.status.idle": "2021-05-20T18:10:56.271162Z",
     "shell.execute_reply": "2021-05-20T18:10:56.270767Z",
     "shell.execute_reply.started": "2021-05-20T16:34:06.788615Z"
    },
    "papermill": {
     "duration": 54.957857,
     "end_time": "2021-05-20T18:10:56.271270",
     "exception": false,
     "start_time": "2021-05-20T18:10:01.313413",
     "status": "completed"
    },
    "tags": []
   },
   "outputs": [
    {
     "name": "stdout",
     "output_type": "stream",
     "text": [
      "Training the model for 3 epochs with learning rate 0.15.\n",
      "Epoch [0], loss: 0.2871, accuracy: 0.9143\n",
      "Epoch [1], loss: 0.2186, accuracy: 0.9354\n",
      "Epoch [2], loss: 0.1783, accuracy: 0.9477\n",
      "Training the model for 3 epochs with learning rate 0.1.\n",
      "Epoch [0], loss: 0.1612, accuracy: 0.9525\n",
      "Epoch [1], loss: 0.1452, accuracy: 0.9573\n",
      "Epoch [2], loss: 0.1350, accuracy: 0.9601\n",
      "Training the model for 5 epochs with learning rate 0.05.\n",
      "Epoch [0], loss: 0.1277, accuracy: 0.9613\n",
      "Epoch [1], loss: 0.1226, accuracy: 0.9627\n",
      "Epoch [2], loss: 0.1192, accuracy: 0.9644\n",
      "Epoch [3], loss: 0.1171, accuracy: 0.9646\n",
      "Epoch [4], loss: 0.1130, accuracy: 0.9654\n",
      "Training the model for 4 epochs with learning rate 0.025.\n",
      "Epoch [0], loss: 0.1120, accuracy: 0.9657\n",
      "Epoch [1], loss: 0.1093, accuracy: 0.9665\n",
      "Epoch [2], loss: 0.1092, accuracy: 0.9660\n",
      "Epoch [3], loss: 0.1079, accuracy: 0.9673\n",
      "Training the model for 4 epochs with learning rate 0.01.\n",
      "Epoch [0], loss: 0.1070, accuracy: 0.9670\n",
      "Epoch [1], loss: 0.1064, accuracy: 0.9671\n",
      "Epoch [2], loss: 0.1065, accuracy: 0.9674\n",
      "Epoch [3], loss: 0.1057, accuracy: 0.9671\n",
      "Training the model for 4 epochs with learning rate 0.005.\n",
      "Epoch [0], loss: 0.1057, accuracy: 0.9667\n",
      "Epoch [1], loss: 0.1054, accuracy: 0.9669\n",
      "Epoch [2], loss: 0.1053, accuracy: 0.9665\n",
      "Epoch [3], loss: 0.1050, accuracy: 0.9669\n",
      "{'loss': 0.10502278804779053, 'accuracy': 0.9669047594070435}\n"
     ]
    }
   ],
   "source": [
    "model = MLP_1_HL_Classification(784, hidden_layer, 10)\n",
    "model.define_loaders(train_loader, validation_loader)\n",
    "\n",
    "model.fit(3, 0.15)\n",
    "model.fit(3, 0.1)\n",
    "model.fit(5, 0.05)\n",
    "model.fit(4, 0.025)\n",
    "model.fit(4, 0.01)\n",
    "model.fit(4, 0.005)\n",
    "\n",
    "result0 = model._evaluate()\n",
    "print(result0)"
   ]
  },
  {
   "cell_type": "markdown",
   "id": "indoor-knight",
   "metadata": {
    "papermill": {
     "duration": 0.029489,
     "end_time": "2021-05-20T18:10:56.330099",
     "exception": false,
     "start_time": "2021-05-20T18:10:56.300610",
     "status": "completed"
    },
    "tags": []
   },
   "source": [
    "## 7. Вывод"
   ]
  },
  {
   "cell_type": "code",
   "execution_count": 8,
   "id": "heated-dublin",
   "metadata": {
    "execution": {
     "iopub.execute_input": "2021-05-20T18:10:56.394597Z",
     "iopub.status.busy": "2021-05-20T18:10:56.393816Z",
     "iopub.status.idle": "2021-05-20T18:11:00.948110Z",
     "shell.execute_reply": "2021-05-20T18:11:00.948637Z",
     "shell.execute_reply.started": "2021-05-20T16:48:41.744963Z"
    },
    "papermill": {
     "duration": 4.589251,
     "end_time": "2021-05-20T18:11:00.948840",
     "exception": false,
     "start_time": "2021-05-20T18:10:56.359589",
     "status": "completed"
    },
    "tags": []
   },
   "outputs": [],
   "source": [
    "predictions = [[idx+1, torch.max(model(point), dim=1)[1].item()] for idx, point in enumerate(DataLoader(test_set))]\n",
    "submission = pd.DataFrame(predictions, columns=['ImageId', 'Label'])\n",
    "submission.to_csv(\"submission.csv\", index=False)"
   ]
  },
  {
   "cell_type": "markdown",
   "id": "nutritional-memorial",
   "metadata": {
    "papermill": {
     "duration": 0.046943,
     "end_time": "2021-05-20T18:11:01.042517",
     "exception": false,
     "start_time": "2021-05-20T18:11:00.995574",
     "status": "completed"
    },
    "tags": []
   },
   "source": [
    "# Модель №2"
   ]
  },
  {
   "cell_type": "code",
   "execution_count": 9,
   "id": "international-processing",
   "metadata": {
    "execution": {
     "iopub.execute_input": "2021-05-20T18:11:01.139438Z",
     "iopub.status.busy": "2021-05-20T18:11:01.138878Z",
     "iopub.status.idle": "2021-05-20T18:11:03.010524Z",
     "shell.execute_reply": "2021-05-20T18:11:03.010911Z",
     "shell.execute_reply.started": "2021-05-20T16:49:41.402096Z"
    },
    "papermill": {
     "duration": 1.922283,
     "end_time": "2021-05-20T18:11:03.011059",
     "exception": false,
     "start_time": "2021-05-20T18:11:01.088776",
     "status": "completed"
    },
    "tags": []
   },
   "outputs": [
    {
     "name": "stdout",
     "output_type": "stream",
     "text": [
      "(42000, 785)\n",
      "   label  pixel0  pixel1  pixel2  pixel3  pixel4  pixel5  pixel6  pixel7  \\\n",
      "0      1       0       0       0       0       0       0       0       0   \n",
      "1      0       0       0       0       0       0       0       0       0   \n",
      "2      1       0       0       0       0       0       0       0       0   \n",
      "3      4       0       0       0       0       0       0       0       0   \n",
      "4      0       0       0       0       0       0       0       0       0   \n",
      "\n",
      "   pixel8  ...  pixel774  pixel775  pixel776  pixel777  pixel778  pixel779  \\\n",
      "0       0  ...         0         0         0         0         0         0   \n",
      "1       0  ...         0         0         0         0         0         0   \n",
      "2       0  ...         0         0         0         0         0         0   \n",
      "3       0  ...         0         0         0         0         0         0   \n",
      "4       0  ...         0         0         0         0         0         0   \n",
      "\n",
      "   pixel780  pixel781  pixel782  pixel783  \n",
      "0         0         0         0         0  \n",
      "1         0         0         0         0  \n",
      "2         0         0         0         0  \n",
      "3         0         0         0         0  \n",
      "4         0         0         0         0  \n",
      "\n",
      "[5 rows x 785 columns]\n"
     ]
    }
   ],
   "source": [
    "train_data = pd.read_csv(\"/kaggle/input/digit-recognizer/train.csv\")\n",
    "print(train_data.shape)\n",
    "print(train_data.head())\n",
    "# изображения сглаживаются (каждая строка содержит значения для одного изображения)\n",
    "# нам нужно изменить его форму, чтобы получить матрицу изображения (значения пикселей в оттенках серого в матрице 28 x 28)\n",
    "# но сначала мы разделяем метки и предикторы (y и x соответственно)\n",
    "# и преобразовать из фрейма данных Pandas в матрицу numpy (это то, что делает .values)\n",
    "\n",
    "X = (train_data.iloc[:, 1:].values).astype('float32')\n",
    "y = (train_data.iloc[:, 0].values).astype('int32')"
   ]
  },
  {
   "cell_type": "code",
   "execution_count": 10,
   "id": "western-treasure",
   "metadata": {
    "execution": {
     "iopub.execute_input": "2021-05-20T18:11:03.078219Z",
     "iopub.status.busy": "2021-05-20T18:11:03.077701Z",
     "iopub.status.idle": "2021-05-20T18:11:05.256327Z",
     "shell.execute_reply": "2021-05-20T18:11:05.256687Z",
     "shell.execute_reply.started": "2021-05-20T16:49:45.165706Z"
    },
    "papermill": {
     "duration": 2.215036,
     "end_time": "2021-05-20T18:11:05.256842",
     "exception": false,
     "start_time": "2021-05-20T18:11:03.041806",
     "status": "completed"
    },
    "tags": []
   },
   "outputs": [
    {
     "name": "stdout",
     "output_type": "stream",
     "text": [
      "(28000, 784)\n"
     ]
    }
   ],
   "source": [
    "test_data = pd.read_csv(\"/kaggle/input/digit-recognizer/test.csv\")\n",
    "print(test_data.shape)\n",
    "test_data.head()\n",
    "X_test = test_data.values.astype('float32')\n"
   ]
  },
  {
   "cell_type": "code",
   "execution_count": 11,
   "id": "exclusive-module",
   "metadata": {
    "execution": {
     "iopub.execute_input": "2021-05-20T18:11:05.324315Z",
     "iopub.status.busy": "2021-05-20T18:11:05.323580Z",
     "iopub.status.idle": "2021-05-20T18:11:05.351608Z",
     "shell.execute_reply": "2021-05-20T18:11:05.352136Z",
     "shell.execute_reply.started": "2021-05-20T16:49:47.112852Z"
    },
    "papermill": {
     "duration": 0.064313,
     "end_time": "2021-05-20T18:11:05.352292",
     "exception": false,
     "start_time": "2021-05-20T18:11:05.287979",
     "status": "completed"
    },
    "tags": []
   },
   "outputs": [
    {
     "name": "stdout",
     "output_type": "stream",
     "text": [
      "(28000, 2)\n"
     ]
    },
    {
     "data": {
      "text/html": [
       "<div>\n",
       "<style scoped>\n",
       "    .dataframe tbody tr th:only-of-type {\n",
       "        vertical-align: middle;\n",
       "    }\n",
       "\n",
       "    .dataframe tbody tr th {\n",
       "        vertical-align: top;\n",
       "    }\n",
       "\n",
       "    .dataframe thead th {\n",
       "        text-align: right;\n",
       "    }\n",
       "</style>\n",
       "<table border=\"1\" class=\"dataframe\">\n",
       "  <thead>\n",
       "    <tr style=\"text-align: right;\">\n",
       "      <th></th>\n",
       "      <th>ImageId</th>\n",
       "      <th>Label</th>\n",
       "    </tr>\n",
       "  </thead>\n",
       "  <tbody>\n",
       "    <tr>\n",
       "      <th>0</th>\n",
       "      <td>1</td>\n",
       "      <td>0</td>\n",
       "    </tr>\n",
       "    <tr>\n",
       "      <th>1</th>\n",
       "      <td>2</td>\n",
       "      <td>0</td>\n",
       "    </tr>\n",
       "    <tr>\n",
       "      <th>2</th>\n",
       "      <td>3</td>\n",
       "      <td>0</td>\n",
       "    </tr>\n",
       "    <tr>\n",
       "      <th>3</th>\n",
       "      <td>4</td>\n",
       "      <td>0</td>\n",
       "    </tr>\n",
       "    <tr>\n",
       "      <th>4</th>\n",
       "      <td>5</td>\n",
       "      <td>0</td>\n",
       "    </tr>\n",
       "  </tbody>\n",
       "</table>\n",
       "</div>"
      ],
      "text/plain": [
       "   ImageId  Label\n",
       "0        1      0\n",
       "1        2      0\n",
       "2        3      0\n",
       "3        4      0\n",
       "4        5      0"
      ]
     },
     "execution_count": 11,
     "metadata": {},
     "output_type": "execute_result"
    }
   ],
   "source": [
    "submission_data = pd.read_csv(\"/kaggle/input/digit-recognizer/sample_submission.csv\")\n",
    "print(submission_data.shape)\n",
    "submission_data.head()"
   ]
  },
  {
   "cell_type": "code",
   "execution_count": 12,
   "id": "second-saturday",
   "metadata": {
    "execution": {
     "iopub.execute_input": "2021-05-20T18:11:05.453435Z",
     "iopub.status.busy": "2021-05-20T18:11:05.452933Z",
     "iopub.status.idle": "2021-05-20T18:11:05.456710Z",
     "shell.execute_reply": "2021-05-20T18:11:05.456028Z",
     "shell.execute_reply.started": "2021-05-20T16:49:49.604796Z"
    },
    "papermill": {
     "duration": 0.056557,
     "end_time": "2021-05-20T18:11:05.456845",
     "exception": false,
     "start_time": "2021-05-20T18:11:05.400288",
     "status": "completed"
    },
    "tags": []
   },
   "outputs": [],
   "source": [
    "img_rows, img_cols = 28, 28\n",
    "num_classes = 10  # digits 0 - 9\n",
    "\n",
    "X_train = X.reshape(X.shape[0], img_rows, img_cols)\n",
    "X_test = X_test.reshape(X_test.shape[0], img_rows, img_cols)"
   ]
  },
  {
   "cell_type": "code",
   "execution_count": 13,
   "id": "quantitative-ghost",
   "metadata": {
    "execution": {
     "iopub.execute_input": "2021-05-20T18:11:05.543711Z",
     "iopub.status.busy": "2021-05-20T18:11:05.543234Z",
     "iopub.status.idle": "2021-05-20T18:11:05.705325Z",
     "shell.execute_reply": "2021-05-20T18:11:05.705694Z",
     "shell.execute_reply.started": "2021-05-20T16:49:50.474940Z"
    },
    "papermill": {
     "duration": 0.216902,
     "end_time": "2021-05-20T18:11:05.705865",
     "exception": false,
     "start_time": "2021-05-20T18:11:05.488963",
     "status": "completed"
    },
    "tags": []
   },
   "outputs": [
    {
     "data": {
      "image/png": "[encoded data removed]",
      "text/plain": [
       "<Figure size 432x288 with 3 Axes>"
      ]
     },
     "metadata": {},
     "output_type": "display_data"
    }
   ],
   "source": [
    "# Построим изображения для проверки работоспособности\n",
    "\n",
    "for i in range(5, 8):\n",
    "    plt.subplot(130 + (-4+i))\n",
    "    plt.imshow(X_train[i], cmap=plt.get_cmap('gray'))\n",
    "    plt.title(y[i])\n",
    "    plt.xticks([])\n",
    "    plt.yticks([])"
   ]
  },
  {
   "cell_type": "code",
   "execution_count": 14,
   "id": "domestic-antarctica",
   "metadata": {
    "execution": {
     "iopub.execute_input": "2021-05-20T18:11:05.774658Z",
     "iopub.status.busy": "2021-05-20T18:11:05.774158Z",
     "iopub.status.idle": "2021-05-20T18:11:05.776565Z",
     "shell.execute_reply": "2021-05-20T18:11:05.776129Z",
     "shell.execute_reply.started": "2021-05-20T16:49:51.776567Z"
    },
    "papermill": {
     "duration": 0.039574,
     "end_time": "2021-05-20T18:11:05.776666",
     "exception": false,
     "start_time": "2021-05-20T18:11:05.737092",
     "status": "completed"
    },
    "tags": []
   },
   "outputs": [],
   "source": [
    "# добавим еще одно измерение для цветового канала\n",
    "X_train = X_train.reshape(X_train.shape[0], img_rows, img_cols, 1)\n",
    "X_test = X_test.reshape(X_test.shape[0], img_rows, img_cols, 1)\n"
   ]
  },
  {
   "cell_type": "code",
   "execution_count": 15,
   "id": "white-orientation",
   "metadata": {
    "execution": {
     "iopub.execute_input": "2021-05-20T18:11:05.844365Z",
     "iopub.status.busy": "2021-05-20T18:11:05.843921Z",
     "iopub.status.idle": "2021-05-20T18:11:05.890017Z",
     "shell.execute_reply": "2021-05-20T18:11:05.889568Z",
     "shell.execute_reply.started": "2021-05-20T16:49:53.075053Z"
    },
    "papermill": {
     "duration": 0.081508,
     "end_time": "2021-05-20T18:11:05.890124",
     "exception": false,
     "start_time": "2021-05-20T18:11:05.808616",
     "status": "completed"
    },
    "tags": []
   },
   "outputs": [],
   "source": [
    "# нормализуем значения пикселей для упрощения обработки\n",
    "X_train = X_train / 255\n",
    "X_test = X_test / 255"
   ]
  },
  {
   "cell_type": "code",
   "execution_count": 16,
   "id": "cosmetic-medline",
   "metadata": {
    "execution": {
     "iopub.execute_input": "2021-05-20T18:11:05.958173Z",
     "iopub.status.busy": "2021-05-20T18:11:05.957628Z",
     "iopub.status.idle": "2021-05-20T18:11:05.963078Z",
     "shell.execute_reply": "2021-05-20T18:11:05.962611Z",
     "shell.execute_reply.started": "2021-05-20T16:49:54.047531Z"
    },
    "papermill": {
     "duration": 0.041258,
     "end_time": "2021-05-20T18:11:05.963189",
     "exception": false,
     "start_time": "2021-05-20T18:11:05.921931",
     "status": "completed"
    },
    "tags": []
   },
   "outputs": [],
   "source": [
    "# кодируем метки одним горячим кодировщиком (конвертировать в отдельные категории)\n",
    "y_train = to_categorical(y)\n"
   ]
  },
  {
   "cell_type": "code",
   "execution_count": 17,
   "id": "subtle-phoenix",
   "metadata": {
    "execution": {
     "iopub.execute_input": "2021-05-20T18:11:06.037954Z",
     "iopub.status.busy": "2021-05-20T18:11:06.032723Z",
     "iopub.status.idle": "2021-05-20T18:11:06.267206Z",
     "shell.execute_reply": "2021-05-20T18:11:06.266773Z",
     "shell.execute_reply.started": "2021-05-20T16:49:55.212298Z"
    },
    "papermill": {
     "duration": 0.272323,
     "end_time": "2021-05-20T18:11:06.267321",
     "exception": false,
     "start_time": "2021-05-20T18:11:05.994998",
     "status": "completed"
    },
    "tags": []
   },
   "outputs": [],
   "source": [
    "# разделим данные на набор для обучения и проверки (используется только для увеличения изображения, в противном случае выполняется при подгонке)\n",
    "X_gen, X_val, y_gen, y_val = train_test_split(X_train, y_train, test_size=0.1, random_state=42)"
   ]
  },
  {
   "cell_type": "code",
   "execution_count": 18,
   "id": "isolated-template",
   "metadata": {
    "execution": {
     "iopub.execute_input": "2021-05-20T18:11:06.337471Z",
     "iopub.status.busy": "2021-05-20T18:11:06.336967Z",
     "iopub.status.idle": "2021-05-20T18:11:06.362189Z",
     "shell.execute_reply": "2021-05-20T18:11:06.361657Z",
     "shell.execute_reply.started": "2021-05-20T16:49:56.573281Z"
    },
    "papermill": {
     "duration": 0.062321,
     "end_time": "2021-05-20T18:11:06.362298",
     "exception": false,
     "start_time": "2021-05-20T18:11:06.299977",
     "status": "completed"
    },
    "tags": []
   },
   "outputs": [],
   "source": [
    "\n",
    "# применим некоторые улучшения к данным изображений, чтобы увеличить обучающие данные\n",
    "datagen = ImageDataGenerator(rotation_range=10,\n",
    "                             zoom_range=0.1,\n",
    "                             width_shift_range=0.1,\n",
    "                             height_shift_range=0.1)\n",
    "datagen.fit(X_gen)"
   ]
  },
  {
   "cell_type": "code",
   "execution_count": 19,
   "id": "turned-collapse",
   "metadata": {
    "execution": {
     "iopub.execute_input": "2021-05-20T18:11:06.437852Z",
     "iopub.status.busy": "2021-05-20T18:11:06.434783Z",
     "iopub.status.idle": "2021-05-20T18:11:06.860648Z",
     "shell.execute_reply": "2021-05-20T18:11:06.860194Z",
     "shell.execute_reply.started": "2021-05-20T16:49:58.706943Z"
    },
    "papermill": {
     "duration": 0.46633,
     "end_time": "2021-05-20T18:11:06.860772",
     "exception": false,
     "start_time": "2021-05-20T18:11:06.394442",
     "status": "completed"
    },
    "tags": []
   },
   "outputs": [],
   "source": [
    "# собрем модель\n",
    "model = Sequential()\n",
    "\n",
    "model.add(Conv2D(32, kernel_size=(5, 5),\n",
    "                 activation='relu',\n",
    "                 # pads the \"frames\" of the image with 0's, so that convolution reaches the edges\n",
    "                 padding='same',\n",
    "                 input_shape=(img_rows, img_cols, 1)))\n",
    "model.add(Dropout(0.2))\n",
    "model.add(Conv2D(32, kernel_size=(5, 5),\n",
    "                 padding='same',\n",
    "                 activation='relu'))\n",
    "model.add(Dropout(0.2))\n",
    "model.add(Conv2D(12, kernel_size=(3, 3),\n",
    "                 padding='same',\n",
    "                 activation='relu'))\n",
    "model.add(MaxPool2D(pool_size=(2, 2)))\n",
    "model.add(Dropout(0.2))\n",
    "\n",
    "\n",
    "model.add(Conv2D(64, kernel_size=(3, 3),\n",
    "                 padding='same',\n",
    "                 activation='relu'))\n",
    "model.add(Dropout(0.2))\n",
    "model.add(Conv2D(64, kernel_size=(3, 3),\n",
    "                 padding='same',\n",
    "                 activation='relu'))\n",
    "model.add(MaxPool2D(pool_size=(2, 2), strides=(2, 2)))\n",
    "model.add(Dropout(0.2))\n",
    "\n",
    "model.add(Flatten())\n",
    "model.add(Dense(256, activation='relu'))\n",
    "model.add(Dropout(0.5))\n",
    "model.add(Dense(10, activation='softmax'))\n"
   ]
  },
  {
   "cell_type": "code",
   "execution_count": 20,
   "id": "comic-furniture",
   "metadata": {
    "execution": {
     "iopub.execute_input": "2021-05-20T18:11:06.937266Z",
     "iopub.status.busy": "2021-05-20T18:11:06.934792Z",
     "iopub.status.idle": "2021-05-20T18:11:06.940780Z",
     "shell.execute_reply": "2021-05-20T18:11:06.940175Z",
     "shell.execute_reply.started": "2021-05-20T16:50:01.212674Z"
    },
    "papermill": {
     "duration": 0.048179,
     "end_time": "2021-05-20T18:11:06.940920",
     "exception": false,
     "start_time": "2021-05-20T18:11:06.892741",
     "status": "completed"
    },
    "tags": []
   },
   "outputs": [],
   "source": [
    "model.compile(loss='categorical_crossentropy',\n",
    "              optimizer='adam',\n",
    "              metrics=['accuracy'])\n"
   ]
  },
  {
   "cell_type": "code",
   "execution_count": 21,
   "id": "optical-parking",
   "metadata": {
    "execution": {
     "iopub.execute_input": "2021-05-20T18:11:07.042644Z",
     "iopub.status.busy": "2021-05-20T18:11:07.042012Z",
     "iopub.status.idle": "2021-05-20T18:11:07.054711Z",
     "shell.execute_reply": "2021-05-20T18:11:07.054329Z",
     "shell.execute_reply.started": "2021-05-20T16:50:06.996500Z"
    },
    "papermill": {
     "duration": 0.06528,
     "end_time": "2021-05-20T18:11:07.054835",
     "exception": false,
     "start_time": "2021-05-20T18:11:06.989555",
     "status": "completed"
    },
    "tags": []
   },
   "outputs": [
    {
     "name": "stdout",
     "output_type": "stream",
     "text": [
      "Model: \"sequential\"\n",
      "_________________________________________________________________\n",
      "Layer (type)                 Output Shape              Param #   \n",
      "=================================================================\n",
      "conv2d (Conv2D)              (None, 28, 28, 32)        832       \n",
      "_________________________________________________________________\n",
      "dropout (Dropout)            (None, 28, 28, 32)        0         \n",
      "_________________________________________________________________\n",
      "conv2d_1 (Conv2D)            (None, 28, 28, 32)        25632     \n",
      "_________________________________________________________________\n",
      "dropout_1 (Dropout)          (None, 28, 28, 32)        0         \n",
      "_________________________________________________________________\n",
      "conv2d_2 (Conv2D)            (None, 28, 28, 12)        3468      \n",
      "_________________________________________________________________\n",
      "max_pooling2d (MaxPooling2D) (None, 14, 14, 12)        0         \n",
      "_________________________________________________________________\n",
      "dropout_2 (Dropout)          (None, 14, 14, 12)        0         \n",
      "_________________________________________________________________\n",
      "conv2d_3 (Conv2D)            (None, 14, 14, 64)        6976      \n",
      "_________________________________________________________________\n",
      "dropout_3 (Dropout)          (None, 14, 14, 64)        0         \n",
      "_________________________________________________________________\n",
      "conv2d_4 (Conv2D)            (None, 14, 14, 64)        36928     \n",
      "_________________________________________________________________\n",
      "max_pooling2d_1 (MaxPooling2 (None, 7, 7, 64)          0         \n",
      "_________________________________________________________________\n",
      "dropout_4 (Dropout)          (None, 7, 7, 64)          0         \n",
      "_________________________________________________________________\n",
      "flatten (Flatten)            (None, 3136)              0         \n",
      "_________________________________________________________________\n",
      "dense (Dense)                (None, 256)               803072    \n",
      "_________________________________________________________________\n",
      "dropout_5 (Dropout)          (None, 256)               0         \n",
      "_________________________________________________________________\n",
      "dense_1 (Dense)              (None, 10)                2570      \n",
      "=================================================================\n",
      "Total params: 879,478\n",
      "Trainable params: 879,478\n",
      "Non-trainable params: 0\n",
      "_________________________________________________________________\n"
     ]
    }
   ],
   "source": [
    "# сводка модели\n",
    "model.summary()\n"
   ]
  },
  {
   "cell_type": "code",
   "execution_count": 22,
   "id": "polish-cocktail",
   "metadata": {
    "execution": {
     "iopub.execute_input": "2021-05-20T18:11:07.128941Z",
     "iopub.status.busy": "2021-05-20T18:11:07.127264Z",
     "iopub.status.idle": "2021-05-20T18:11:07.131418Z",
     "shell.execute_reply": "2021-05-20T18:11:07.130909Z",
     "shell.execute_reply.started": "2021-05-20T16:50:09.469872Z"
    },
    "papermill": {
     "duration": 0.04447,
     "end_time": "2021-05-20T18:11:07.131527",
     "exception": false,
     "start_time": "2021-05-20T18:11:07.087057",
     "status": "completed"
    },
    "tags": []
   },
   "outputs": [],
   "source": [
    "model.compile(optimizer='adam', loss='categorical_crossentropy', metrics=['acc'])"
   ]
  },
  {
   "cell_type": "code",
   "execution_count": 23,
   "id": "sticky-activation",
   "metadata": {
    "execution": {
     "iopub.execute_input": "2021-05-20T18:11:07.200542Z",
     "iopub.status.busy": "2021-05-20T18:11:07.200095Z",
     "iopub.status.idle": "2021-05-20T18:25:13.220895Z",
     "shell.execute_reply": "2021-05-20T18:25:13.221316Z",
     "shell.execute_reply.started": "2021-05-20T17:48:37.515783Z"
    },
    "papermill": {
     "duration": 846.057137,
     "end_time": "2021-05-20T18:25:13.221646",
     "exception": false,
     "start_time": "2021-05-20T18:11:07.164509",
     "status": "completed"
    },
    "tags": []
   },
   "outputs": [
    {
     "name": "stdout",
     "output_type": "stream",
     "text": [
      "Epoch 1/6\n",
      "90/90 [==============================] - 141s 2s/step - loss: 1.4748 - acc: 0.4755 - val_loss: 0.0957 - val_acc: 0.9717\n",
      "Epoch 2/6\n",
      "90/90 [==============================] - 139s 2s/step - loss: 0.2516 - acc: 0.9225 - val_loss: 0.0627 - val_acc: 0.9824\n",
      "Epoch 3/6\n",
      "90/90 [==============================] - 139s 2s/step - loss: 0.1658 - acc: 0.9507 - val_loss: 0.0498 - val_acc: 0.9848\n",
      "Epoch 4/6\n",
      "90/90 [==============================] - 144s 2s/step - loss: 0.1354 - acc: 0.9580 - val_loss: 0.0431 - val_acc: 0.9876\n",
      "Epoch 5/6\n",
      "90/90 [==============================] - 140s 2s/step - loss: 0.1282 - acc: 0.9623 - val_loss: 0.0446 - val_acc: 0.9871\n",
      "Epoch 6/6\n",
      "90/90 [==============================] - 141s 2s/step - loss: 0.1105 - acc: 0.9676 - val_loss: 0.0363 - val_acc: 0.9900\n"
     ]
    },
    {
     "data": {
      "text/plain": [
       "<tensorflow.python.keras.callbacks.History at 0x7fc229b32610>"
      ]
     },
     "execution_count": 23,
     "metadata": {},
     "output_type": "execute_result"
    }
   ],
   "source": [
    "# обучим модель\n",
    "model.fit(datagen.flow(X_gen, y_gen, batch_size=420),\n",
    "                    epochs=6,\n",
    "                    validation_data=(X_val, y_val))"
   ]
  },
  {
   "cell_type": "code",
   "execution_count": 24,
   "id": "educated-hometown",
   "metadata": {
    "execution": {
     "iopub.execute_input": "2021-05-20T18:25:13.559897Z",
     "iopub.status.busy": "2021-05-20T18:25:13.559176Z",
     "iopub.status.idle": "2021-05-20T18:25:16.841393Z",
     "shell.execute_reply": "2021-05-20T18:25:16.840807Z",
     "shell.execute_reply.started": "2021-05-20T18:04:47.025970Z"
    },
    "papermill": {
     "duration": 3.45382,
     "end_time": "2021-05-20T18:25:16.841537",
     "exception": false,
     "start_time": "2021-05-20T18:25:13.387717",
     "status": "completed"
    },
    "tags": []
   },
   "outputs": [
    {
     "name": "stdout",
     "output_type": "stream",
     "text": [
      "on valid data\n",
      "132/132 [==============================] - 3s 24ms/step - loss: 0.0363 - acc: 0.9900\n",
      "accuaracy 99.00000095367432\n",
      "Total loss 3.633924201130867\n"
     ]
    }
   ],
   "source": [
    "print(\"on valid data\")\n",
    "pred1=model.evaluate(X_val,y_val)\n",
    "print(\"accuaracy\", str(pred1[1]*100))\n",
    "print(\"Total loss\",str(pred1[0]*100))"
   ]
  },
  {
   "cell_type": "code",
   "execution_count": 25,
   "id": "bound-lecture",
   "metadata": {
    "execution": {
     "iopub.execute_input": "2021-05-20T18:25:17.411133Z",
     "iopub.status.busy": "2021-05-20T18:25:17.410473Z",
     "iopub.status.idle": "2021-05-20T18:25:17.553271Z",
     "shell.execute_reply": "2021-05-20T18:25:17.552691Z",
     "shell.execute_reply.started": "2021-05-20T18:04:55.508889Z"
    },
    "papermill": {
     "duration": 0.431966,
     "end_time": "2021-05-20T18:25:17.553387",
     "exception": false,
     "start_time": "2021-05-20T18:25:17.121421",
     "status": "completed"
    },
    "tags": []
   },
   "outputs": [],
   "source": [
    "from keras.models import Model\n",
    "layer_outputs = [layer.output for layer in model.layers]\n",
    "activation_model = Model(inputs=model.input, outputs=layer_outputs)\n",
    "activations = activation_model.predict(X_train[10].reshape(1,28,28,1))\n",
    " \n",
    "def display_activation(activations, col_size, row_size, act_index): \n",
    "    activation = activations[act_index]\n",
    "    activation_index=0\n",
    "    fig, ax = plt.subplots(row_size, col_size, figsize=(row_size*2.5,col_size*1.5))\n",
    "    for row in range(0,row_size):\n",
    "        for col in range(0,col_size):\n",
    "            ax[row][col].imshow(activation[0, :, :, activation_index], cmap='gray')\n",
    "            activation_index += 1"
   ]
  },
  {
   "cell_type": "code",
   "execution_count": 26,
   "id": "bizarre-techno",
   "metadata": {
    "execution": {
     "iopub.execute_input": "2021-05-20T18:25:17.934099Z",
     "iopub.status.busy": "2021-05-20T18:25:17.933280Z",
     "iopub.status.idle": "2021-05-20T18:25:18.945065Z",
     "shell.execute_reply": "2021-05-20T18:25:18.944486Z",
     "shell.execute_reply.started": "2021-05-20T18:04:57.772088Z"
    },
    "papermill": {
     "duration": 1.211876,
     "end_time": "2021-05-20T18:25:18.945181",
     "exception": false,
     "start_time": "2021-05-20T18:25:17.733305",
     "status": "completed"
    },
    "tags": []
   },
   "outputs": [
    {
     "data": {
      "image/png": "[encoded data removed]",
      "text/plain": [
       "<Figure size 720x432 with 16 Axes>"
      ]
     },
     "metadata": {
      "needs_background": "light"
     },
     "output_type": "display_data"
    }
   ],
   "source": [
    "display_activation(activations, 4, 4, 1)"
   ]
  },
  {
   "cell_type": "code",
   "execution_count": 27,
   "id": "selected-cleaning",
   "metadata": {
    "execution": {
     "iopub.execute_input": "2021-05-20T18:25:19.520368Z",
     "iopub.status.busy": "2021-05-20T18:25:19.519877Z",
     "iopub.status.idle": "2021-05-20T18:25:20.533629Z",
     "shell.execute_reply": "2021-05-20T18:25:20.533098Z",
     "shell.execute_reply.started": "2021-05-20T18:06:08.357067Z"
    },
    "papermill": {
     "duration": 1.402108,
     "end_time": "2021-05-20T18:25:20.533831",
     "exception": false,
     "start_time": "2021-05-20T18:25:19.131723",
     "status": "completed"
    },
    "tags": []
   },
   "outputs": [
    {
     "ename": "IndexError",
     "evalue": "index 12 is out of bounds for axis 3 with size 12",
     "output_type": "error",
     "traceback": [
      "\u001b[0;31m---------------------------------------------------------------------------\u001b[0m",
      "\u001b[0;31mIndexError\u001b[0m                                Traceback (most recent call last)",
      "\u001b[0;32m<ipython-input-27-8d444192d3b8>\u001b[0m in \u001b[0;36m<module>\u001b[0;34m\u001b[0m\n\u001b[0;32m----> 1\u001b[0;31m \u001b[0mdisplay_activation\u001b[0m\u001b[0;34m(\u001b[0m\u001b[0mactivations\u001b[0m\u001b[0;34m,\u001b[0m \u001b[0;36m4\u001b[0m\u001b[0;34m,\u001b[0m \u001b[0;36m4\u001b[0m\u001b[0;34m,\u001b[0m \u001b[0;36m4\u001b[0m\u001b[0;34m)\u001b[0m\u001b[0;34m\u001b[0m\u001b[0;34m\u001b[0m\u001b[0m\n\u001b[0m",
      "\u001b[0;32m<ipython-input-25-446c4b89bf91>\u001b[0m in \u001b[0;36mdisplay_activation\u001b[0;34m(activations, col_size, row_size, act_index)\u001b[0m\n\u001b[1;32m     10\u001b[0m     \u001b[0;32mfor\u001b[0m \u001b[0mrow\u001b[0m \u001b[0;32min\u001b[0m \u001b[0mrange\u001b[0m\u001b[0;34m(\u001b[0m\u001b[0;36m0\u001b[0m\u001b[0;34m,\u001b[0m\u001b[0mrow_size\u001b[0m\u001b[0;34m)\u001b[0m\u001b[0;34m:\u001b[0m\u001b[0;34m\u001b[0m\u001b[0;34m\u001b[0m\u001b[0m\n\u001b[1;32m     11\u001b[0m         \u001b[0;32mfor\u001b[0m \u001b[0mcol\u001b[0m \u001b[0;32min\u001b[0m \u001b[0mrange\u001b[0m\u001b[0;34m(\u001b[0m\u001b[0;36m0\u001b[0m\u001b[0;34m,\u001b[0m\u001b[0mcol_size\u001b[0m\u001b[0;34m)\u001b[0m\u001b[0;34m:\u001b[0m\u001b[0;34m\u001b[0m\u001b[0;34m\u001b[0m\u001b[0m\n\u001b[0;32m---> 12\u001b[0;31m             \u001b[0max\u001b[0m\u001b[0;34m[\u001b[0m\u001b[0mrow\u001b[0m\u001b[0;34m]\u001b[0m\u001b[0;34m[\u001b[0m\u001b[0mcol\u001b[0m\u001b[0;34m]\u001b[0m\u001b[0;34m.\u001b[0m\u001b[0mimshow\u001b[0m\u001b[0;34m(\u001b[0m\u001b[0mactivation\u001b[0m\u001b[0;34m[\u001b[0m\u001b[0;36m0\u001b[0m\u001b[0;34m,\u001b[0m \u001b[0;34m:\u001b[0m\u001b[0;34m,\u001b[0m \u001b[0;34m:\u001b[0m\u001b[0;34m,\u001b[0m \u001b[0mactivation_index\u001b[0m\u001b[0;34m]\u001b[0m\u001b[0;34m,\u001b[0m \u001b[0mcmap\u001b[0m\u001b[0;34m=\u001b[0m\u001b[0;34m'gray'\u001b[0m\u001b[0;34m)\u001b[0m\u001b[0;34m\u001b[0m\u001b[0;34m\u001b[0m\u001b[0m\n\u001b[0m\u001b[1;32m     13\u001b[0m             \u001b[0mactivation_index\u001b[0m \u001b[0;34m+=\u001b[0m \u001b[0;36m1\u001b[0m\u001b[0;34m\u001b[0m\u001b[0;34m\u001b[0m\u001b[0m\n",
      "\u001b[0;31mIndexError\u001b[0m: index 12 is out of bounds for axis 3 with size 12"
     ]
    },
    {
     "data": {
      "image/png": "[encoded data removed]",
      "text/plain": [
       "<Figure size 720x432 with 16 Axes>"
      ]
     },
     "metadata": {
      "needs_background": "light"
     },
     "output_type": "display_data"
    }
   ],
   "source": [
    "display_activation(activations, 4, 4, 4)"
   ]
  },
  {
   "cell_type": "code",
   "execution_count": 28,
   "id": "heavy-board",
   "metadata": {
    "execution": {
     "iopub.execute_input": "2021-05-20T18:25:21.113063Z",
     "iopub.status.busy": "2021-05-20T18:25:21.112386Z",
     "iopub.status.idle": "2021-05-20T18:25:22.375793Z",
     "shell.execute_reply": "2021-05-20T18:25:22.376294Z",
     "shell.execute_reply.started": "2021-05-20T18:05:44.660258Z"
    },
    "papermill": {
     "duration": 1.555116,
     "end_time": "2021-05-20T18:25:22.376479",
     "exception": false,
     "start_time": "2021-05-20T18:25:20.821363",
     "status": "completed"
    },
    "tags": []
   },
   "outputs": [
    {
     "data": {
      "image/png": "[encoded data removed]",
      "text/plain": [
       "<Figure size 720x432 with 16 Axes>"
      ]
     },
     "metadata": {
      "needs_background": "light"
     },
     "output_type": "display_data"
    }
   ],
   "source": [
    "display_activation(activations, 4, 4, 10)"
   ]
  },
  {
   "cell_type": "code",
   "execution_count": 29,
   "id": "mental-december",
   "metadata": {
    "execution": {
     "iopub.execute_input": "2021-05-20T18:25:22.967035Z",
     "iopub.status.busy": "2021-05-20T18:25:22.966339Z",
     "iopub.status.idle": "2021-05-20T18:25:26.644133Z",
     "shell.execute_reply": "2021-05-20T18:25:26.643720Z",
     "shell.execute_reply.started": "2021-05-20T18:07:36.895575Z"
    },
    "papermill": {
     "duration": 3.974673,
     "end_time": "2021-05-20T18:25:26.644245",
     "exception": false,
     "start_time": "2021-05-20T18:25:22.669572",
     "status": "completed"
    },
    "tags": []
   },
   "outputs": [
    {
     "data": {
      "image/png": "[encoded data removed]",
      "text/plain": [
       "<Figure size 720x576 with 2 Axes>"
      ]
     },
     "metadata": {
      "needs_background": "light"
     },
     "output_type": "display_data"
    }
   ],
   "source": [
    "from sklearn.metrics import confusion_matrix\n",
    "Y_prediction = model.predict(X_val)\n",
    "Y_pred_classes = np.argmax(Y_prediction,axis = 1) \n",
    "Y_true = np.argmax(y_val,axis = 1) \n",
    "confusion_mtx = confusion_matrix(Y_true, Y_pred_classes)\n",
    "plt.figure(figsize=(10,8))\n",
    "sns.heatmap(confusion_mtx, annot=True, fmt=\"d\");"
   ]
  },
  {
   "cell_type": "code",
   "execution_count": 30,
   "id": "attached-polish",
   "metadata": {
    "execution": {
     "iopub.execute_input": "2021-05-20T18:25:27.025804Z",
     "iopub.status.busy": "2021-05-20T18:25:27.025196Z",
     "iopub.status.idle": "2021-05-20T18:25:48.116561Z",
     "shell.execute_reply": "2021-05-20T18:25:48.115986Z"
    },
    "papermill": {
     "duration": 21.285194,
     "end_time": "2021-05-20T18:25:48.116707",
     "exception": false,
     "start_time": "2021-05-20T18:25:26.831513",
     "status": "completed"
    },
    "tags": []
   },
   "outputs": [],
   "source": [
    "# Вывод\n",
    "preds = model.predict(X_test)\n",
    "submissions = pd.read_csv('/kaggle/input/digit-recognizer/sample_submission.csv')\n",
    "submissions[\"Label\"] = preds.astype('int32')\n",
    "submissions.to_csv('submissions_TWO.csv', index = False)"
   ]
  }
 ],
 "metadata": {
  "kernelspec": {
   "display_name": "Python 3",
   "language": "python",
   "name": "python3"
  },
  "language_info": {
   "codemirror_mode": {
    "name": "ipython",
    "version": 3
   },
   "file_extension": ".py",
   "mimetype": "text/x-python",
   "name": "python",
   "nbconvert_exporter": "python",
   "pygments_lexer": "ipython3",
   "version": "3.7.10"
  },
  "papermill": {
   "default_parameters": {},
   "duration": 1005.285936,
   "end_time": "2021-05-20T18:25:51.334882",
   "environment_variables": {},
   "exception": null,
   "input_path": "__notebook__.ipynb",
   "output_path": "__notebook__.ipynb",
   "parameters": {},
   "start_time": "2021-05-20T18:09:06.048946",
   "version": "2.3.3"
  }
 },
 "nbformat": 4,
 "nbformat_minor": 5
}
