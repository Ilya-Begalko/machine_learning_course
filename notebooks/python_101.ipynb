{
 "cells": [
  {
   "cell_type": "code",
   "execution_count": 1,
   "metadata": {},
   "outputs": [
    {
     "name": "stdout",
     "output_type": "stream",
     "text": [
      "Заполните первый список:\n",
      "12 344 556 23 1\n",
      "['12', '344', '556', '23', '1']\n",
      "Заполните второй список:\n",
      "23 435 1 46 224 765\n",
      "['23', '435', '1', '46', '224', '765']\n",
      "Повторяющие элементы:\n",
      "['23', '1']\n"
     ]
    }
   ],
   "source": [
    "def find_function(List_1, List_2):\n",
    "    List_crossing = []\n",
    "    for i in List_1:\n",
    "        for j in List_2:\n",
    "            if i == j:\n",
    "                List_crossing.append(i)\n",
    "                break\n",
    "    print(\"Повторяющие элементы:\")\n",
    "    print(List_crossing)\n",
    "\n",
    "\n",
    "print(\"Заполните первый список:\")\n",
    "a = input()\n",
    "List_first = a.split(\" \")\n",
    "print(List_first)\n",
    "\n",
    "print(\"Заполните второй список:\")\n",
    "b = input()\n",
    "List_second = b.split(\" \")\n",
    "print(List_second)\n",
    "\n",
    "find_function(List_first,List_second)\n"
   ]
  },
  {
   "cell_type": "code",
   "execution_count": null,
   "outputs": [],
   "source": [],
   "metadata": {
    "collapsed": false,
    "pycharm": {
     "name": "#%%\n"
    }
   }
  },
  {
   "cell_type": "code",
   "execution_count": null,
   "metadata": {},
   "outputs": [],
   "source": []
  }
 ],
 "metadata": {
  "kernelspec": {
   "display_name": "Python 3",
   "language": "python",
   "name": "python3"
  },
  "language_info": {
   "codemirror_mode": {
    "name": "ipython",
    "version": 3
   },
   "file_extension": ".py",
   "mimetype": "text/x-python",
   "name": "python",
   "nbconvert_exporter": "python",
   "pygments_lexer": "ipython3",
   "version": "3.8.5"
  }
 },
 "nbformat": 4,
 "nbformat_minor": 1
}