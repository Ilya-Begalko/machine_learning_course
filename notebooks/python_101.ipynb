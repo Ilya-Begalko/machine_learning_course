{
 "cells": [
  {
   "cell_type": "code",
   "execution_count": 12,
   "outputs": [],
   "source": [
    "def find_function(list_1, list_2):\n",
    "    list_crossing = list(set(list_1) & set(list_2))\n",
    "    print(\"Повторяющие элементы:\")\n",
    "    print(list_crossing)"
   ],
   "metadata": {
    "collapsed": false,
    "pycharm": {
     "name": "#%%\n"
    }
   }
  },
  {
   "cell_type": "code",
   "execution_count": 13,
   "metadata": {
    "pycharm": {
     "name": "#%%\n"
    }
   },
   "outputs": [
    {
     "name": "stdout",
     "output_type": "stream",
     "text": [
      "Первый список:\n",
      "['12', '23', '344', '556', '23', '1']\n",
      "Второй список:\n",
      "['23', '435', '1', '46', '224', '765']\n",
      "Повторяющие элементы:\n",
      "['1', '23']\n"
     ]
    }
   ],
   "source": [
    "print(\"Первый список:\")\n",
    "list_first  = [\n",
    "    '12', '23', '344',\n",
    "    '556', '23', '1',\n",
    "    ]\n",
    "print(list_first)\n",
    "\n",
    "print(\"Второй список:\")\n",
    "list_second = [\n",
    "    '23', '435', '1',\n",
    "    '46', '224', '765'\n",
    "    ]\n",
    "print(list_second)\n",
    "\n",
    "find_function(list_first,list_second)"
   ]
  }
 ],
 "metadata": {
  "kernelspec": {
   "display_name": "Python 3",
   "language": "python",
   "name": "python3"
  },
  "language_info": {
   "codemirror_mode": {
    "name": "ipython",
    "version": 3
   },
   "file_extension": ".py",
   "mimetype": "text/x-python",
   "name": "python",
   "nbconvert_exporter": "python",
   "pygments_lexer": "ipython3",
   "version": "3.8.5"
  }
 },
 "nbformat": 4,
 "nbformat_minor": 1
}