{
 "cells": [
  {
   "cell_type": "code",
   "execution_count": 3,
   "outputs": [],
   "source": [
    "import pandas as pd"
   ],
   "metadata": {
    "collapsed": false,
    "pycharm": {
     "name": "#%%\n"
    }
   }
  },
  {
   "cell_type": "markdown",
   "source": [
    "# Загрузка и подготовка данных"
   ],
   "metadata": {
    "collapsed": false
   }
  },
  {
   "cell_type": "code",
   "execution_count": 4,
   "outputs": [
    {
     "name": "stdout",
     "output_type": "stream",
     "text": [
      "<class 'pandas.core.frame.DataFrame'>\n",
      "RangeIndex: 2000 entries, 0 to 1999\n",
      "Data columns (total 22 columns):\n",
      " #   Column         Non-Null Count  Dtype  \n",
      "---  ------         --------------  -----  \n",
      " 0   Unnamed: 0     2000 non-null   int64  \n",
      " 1   battery_power  2000 non-null   int64  \n",
      " 2   blue           2000 non-null   int64  \n",
      " 3   clock_speed    2000 non-null   float64\n",
      " 4   dual_sim       2000 non-null   int64  \n",
      " 5   fc             2000 non-null   int64  \n",
      " 6   four_g         2000 non-null   int64  \n",
      " 7   int_memory     2000 non-null   int64  \n",
      " 8   m_dep          2000 non-null   float64\n",
      " 9   mobile_wt      2000 non-null   int64  \n",
      " 10  n_cores        2000 non-null   int64  \n",
      " 11  pc             2000 non-null   int64  \n",
      " 12  px_height      2000 non-null   int64  \n",
      " 13  px_width       2000 non-null   int64  \n",
      " 14  ram            2000 non-null   int64  \n",
      " 15  sc_h           2000 non-null   int64  \n",
      " 16  sc_w           2000 non-null   int64  \n",
      " 17  talk_time      2000 non-null   int64  \n",
      " 18  three_g        2000 non-null   int64  \n",
      " 19  touch_screen   2000 non-null   int64  \n",
      " 20  wifi           2000 non-null   int64  \n",
      " 21  price_range    2000 non-null   int64  \n",
      "dtypes: float64(2), int64(20)\n",
      "memory usage: 343.8 KB\n"
     ]
    }
   ],
   "source": [
    "phone_df = pd.read_csv('../data/Smartphone_chosse_preprocessed.csv')\n",
    "phone_df.info()"
   ],
   "metadata": {
    "collapsed": false,
    "pycharm": {
     "name": "#%%\n"
    }
   }
  },
  {
   "cell_type": "code",
   "execution_count": 5,
   "outputs": [
    {
     "data": {
      "text/plain": "   Unnamed: 0  battery_power  blue  clock_speed  dual_sim  fc  four_g  \\\n0           0            842     0          2.2         0   1       0   \n1           1           1021     1          0.5         1   0       1   \n2           2            563     1          0.5         1   2       1   \n3           3            615     1          2.5         0   0       0   \n4           4           1821     1          1.2         0  13       1   \n\n   int_memory  m_dep  mobile_wt  ...  px_height  px_width   ram  sc_h  sc_w  \\\n0           7    0.6        188  ...         20       756  2549     9     7   \n1          53    0.7        136  ...        905      1988  2631    17     3   \n2          41    0.9        145  ...       1263      1716  2603    11     2   \n3          10    0.8        131  ...       1216      1786  2769    16     8   \n4          44    0.6        141  ...       1208      1212  1411     8     2   \n\n   talk_time  three_g  touch_screen  wifi  price_range  \n0         19        0             0     1            1  \n1          7        1             1     0            2  \n2          9        1             1     0            2  \n3         11        1             0     0            2  \n4         15        1             1     0            1  \n\n[5 rows x 22 columns]",
      "text/html": "<div>\n<style scoped>\n    .dataframe tbody tr th:only-of-type {\n        vertical-align: middle;\n    }\n\n    .dataframe tbody tr th {\n        vertical-align: top;\n    }\n\n    .dataframe thead th {\n        text-align: right;\n    }\n</style>\n<table border=\"1\" class=\"dataframe\">\n  <thead>\n    <tr style=\"text-align: right;\">\n      <th></th>\n      <th>Unnamed: 0</th>\n      <th>battery_power</th>\n      <th>blue</th>\n      <th>clock_speed</th>\n      <th>dual_sim</th>\n      <th>fc</th>\n      <th>four_g</th>\n      <th>int_memory</th>\n      <th>m_dep</th>\n      <th>mobile_wt</th>\n      <th>...</th>\n      <th>px_height</th>\n      <th>px_width</th>\n      <th>ram</th>\n      <th>sc_h</th>\n      <th>sc_w</th>\n      <th>talk_time</th>\n      <th>three_g</th>\n      <th>touch_screen</th>\n      <th>wifi</th>\n      <th>price_range</th>\n    </tr>\n  </thead>\n  <tbody>\n    <tr>\n      <th>0</th>\n      <td>0</td>\n      <td>842</td>\n      <td>0</td>\n      <td>2.2</td>\n      <td>0</td>\n      <td>1</td>\n      <td>0</td>\n      <td>7</td>\n      <td>0.6</td>\n      <td>188</td>\n      <td>...</td>\n      <td>20</td>\n      <td>756</td>\n      <td>2549</td>\n      <td>9</td>\n      <td>7</td>\n      <td>19</td>\n      <td>0</td>\n      <td>0</td>\n      <td>1</td>\n      <td>1</td>\n    </tr>\n    <tr>\n      <th>1</th>\n      <td>1</td>\n      <td>1021</td>\n      <td>1</td>\n      <td>0.5</td>\n      <td>1</td>\n      <td>0</td>\n      <td>1</td>\n      <td>53</td>\n      <td>0.7</td>\n      <td>136</td>\n      <td>...</td>\n      <td>905</td>\n      <td>1988</td>\n      <td>2631</td>\n      <td>17</td>\n      <td>3</td>\n      <td>7</td>\n      <td>1</td>\n      <td>1</td>\n      <td>0</td>\n      <td>2</td>\n    </tr>\n    <tr>\n      <th>2</th>\n      <td>2</td>\n      <td>563</td>\n      <td>1</td>\n      <td>0.5</td>\n      <td>1</td>\n      <td>2</td>\n      <td>1</td>\n      <td>41</td>\n      <td>0.9</td>\n      <td>145</td>\n      <td>...</td>\n      <td>1263</td>\n      <td>1716</td>\n      <td>2603</td>\n      <td>11</td>\n      <td>2</td>\n      <td>9</td>\n      <td>1</td>\n      <td>1</td>\n      <td>0</td>\n      <td>2</td>\n    </tr>\n    <tr>\n      <th>3</th>\n      <td>3</td>\n      <td>615</td>\n      <td>1</td>\n      <td>2.5</td>\n      <td>0</td>\n      <td>0</td>\n      <td>0</td>\n      <td>10</td>\n      <td>0.8</td>\n      <td>131</td>\n      <td>...</td>\n      <td>1216</td>\n      <td>1786</td>\n      <td>2769</td>\n      <td>16</td>\n      <td>8</td>\n      <td>11</td>\n      <td>1</td>\n      <td>0</td>\n      <td>0</td>\n      <td>2</td>\n    </tr>\n    <tr>\n      <th>4</th>\n      <td>4</td>\n      <td>1821</td>\n      <td>1</td>\n      <td>1.2</td>\n      <td>0</td>\n      <td>13</td>\n      <td>1</td>\n      <td>44</td>\n      <td>0.6</td>\n      <td>141</td>\n      <td>...</td>\n      <td>1208</td>\n      <td>1212</td>\n      <td>1411</td>\n      <td>8</td>\n      <td>2</td>\n      <td>15</td>\n      <td>1</td>\n      <td>1</td>\n      <td>0</td>\n      <td>1</td>\n    </tr>\n  </tbody>\n</table>\n<p>5 rows × 22 columns</p>\n</div>"
     },
     "execution_count": 5,
     "metadata": {},
     "output_type": "execute_result"
    }
   ],
   "source": [
    "phone_df.head()"
   ],
   "metadata": {
    "collapsed": false,
    "pycharm": {
     "name": "#%%\n"
    }
   }
  },
  {
   "cell_type": "code",
   "execution_count": 6,
   "outputs": [
    {
     "data": {
      "text/plain": "array([1, 2, 3, 0], dtype=int64)"
     },
     "execution_count": 6,
     "metadata": {},
     "output_type": "execute_result"
    }
   ],
   "source": [
    "phone_df[\"price_range\"].unique()"
   ],
   "metadata": {
    "collapsed": false,
    "pycharm": {
     "name": "#%%\n"
    }
   }
  },
  {
   "cell_type": "code",
   "execution_count": 18,
   "outputs": [],
   "source": [
    "X = phone_df.iloc[:, :-1].values\n",
    "Y = phone_df.iloc[:, -1].values"
   ],
   "metadata": {
    "collapsed": false,
    "pycharm": {
     "name": "#%%\n"
    }
   }
  },
  {
   "cell_type": "code",
   "execution_count": 20,
   "outputs": [
    {
     "name": "stdout",
     "output_type": "stream",
     "text": [
      "[[0.000e+00 8.420e+02 0.000e+00 ... 0.000e+00 0.000e+00 1.000e+00]\n",
      " [1.000e+00 1.021e+03 1.000e+00 ... 1.000e+00 1.000e+00 0.000e+00]\n",
      " [2.000e+00 5.630e+02 1.000e+00 ... 1.000e+00 1.000e+00 0.000e+00]\n",
      " ...\n",
      " [1.997e+03 1.911e+03 0.000e+00 ... 1.000e+00 1.000e+00 0.000e+00]\n",
      " [1.998e+03 1.512e+03 0.000e+00 ... 1.000e+00 1.000e+00 1.000e+00]\n",
      " [1.999e+03 5.100e+02 1.000e+00 ... 1.000e+00 1.000e+00 1.000e+00]]\n"
     ]
    }
   ],
   "source": [
    "print(X)"
   ],
   "metadata": {
    "collapsed": false,
    "pycharm": {
     "name": "#%%\n"
    }
   }
  },
  {
   "cell_type": "markdown",
   "source": [
    "# Разделение массивов или матриц на случайные обучающие и тестовые подмножества"
   ],
   "metadata": {
    "collapsed": false
   }
  },
  {
   "cell_type": "code",
   "execution_count": 21,
   "outputs": [],
   "source": [
    "from sklearn.model_selection import train_test_split\n",
    "X_train, X_test, y_train, y_test = train_test_split(X, Y, test_size=0.20)"
   ],
   "metadata": {
    "collapsed": false,
    "pycharm": {
     "name": "#%%\n"
    }
   }
  },
  {
   "cell_type": "markdown",
   "source": [
    "# Стандартизация функций путем удаления среднего и масштабирования до единичной дисперсии"
   ],
   "metadata": {
    "collapsed": false
   }
  },
  {
   "cell_type": "code",
   "execution_count": 22,
   "outputs": [],
   "source": [
    "from sklearn.preprocessing import StandardScaler\n",
    "scaler = StandardScaler()\n",
    "scaler.fit(X_train)\n",
    "\n",
    "X_train = scaler.transform(X_train)\n",
    "X_test = scaler.transform(X_test)"
   ],
   "metadata": {
    "collapsed": false,
    "pycharm": {
     "name": "#%%\n"
    }
   }
  },
  {
   "cell_type": "code",
   "execution_count": 23,
   "outputs": [
    {
     "data": {
      "text/plain": "array([[ 0.19679387,  0.25287718,  0.99501244, ..., -1.79489161,\n         0.99875078, -0.99875078],\n       [-0.69297864, -0.13559669, -1.00501256, ...,  0.55713671,\n         0.99875078,  1.00125078],\n       [-1.4578708 ,  1.38649394, -1.00501256, ..., -1.79489161,\n        -1.00125078, -0.99875078],\n       ...,\n       [-0.03909124, -0.22646778,  0.99501244, ...,  0.55713671,\n        -1.00125078, -0.99875078],\n       [-1.53938992, -0.82394514, -1.00501256, ...,  0.55713671,\n         0.99875078, -0.99875078],\n       [ 0.20373167,  1.68182496, -1.00501256, ...,  0.55713671,\n         0.99875078, -0.99875078]])"
     },
     "execution_count": 23,
     "metadata": {},
     "output_type": "execute_result"
    }
   ],
   "source": [
    "X_train"
   ],
   "metadata": {
    "collapsed": false,
    "pycharm": {
     "name": "#%%\n"
    }
   }
  },
  {
   "cell_type": "markdown",
   "source": [
    "# Классификация\n",
    "1)Метод k-ближайших соседей (K-Nearest Neighbors)\n",
    "Выданный способ реализации."
   ],
   "metadata": {
    "collapsed": false
   }
  },
  {
   "cell_type": "code",
   "execution_count": 24,
   "outputs": [
    {
     "data": {
      "text/plain": "KNeighborsClassifier()"
     },
     "execution_count": 24,
     "metadata": {},
     "output_type": "execute_result"
    }
   ],
   "source": [
    "#Классификатор, реализующий голосование k-ближайших соседей.\n",
    "from sklearn.neighbors import KNeighborsClassifier\n",
    "clf = KNeighborsClassifier(n_neighbors=5)\n",
    "clf.fit(X_train, y_train)"
   ],
   "metadata": {
    "collapsed": false,
    "pycharm": {
     "name": "#%%\n"
    }
   }
  },
  {
   "cell_type": "code",
   "execution_count": 25,
   "outputs": [
    {
     "name": "stdout",
     "output_type": "stream",
     "text": [
      "[[74 22  4  0]\n",
      " [39 34 22  2]\n",
      " [ 8 38 33 14]\n",
      " [ 1 14 38 57]]\n",
      "              precision    recall  f1-score   support\n",
      "\n",
      "           0       0.61      0.74      0.67       100\n",
      "           1       0.31      0.35      0.33        97\n",
      "           2       0.34      0.35      0.35        93\n",
      "           3       0.78      0.52      0.62       110\n",
      "\n",
      "    accuracy                           0.49       400\n",
      "   macro avg       0.51      0.49      0.49       400\n",
      "weighted avg       0.52      0.49      0.50       400\n",
      "\n"
     ]
    }
   ],
   "source": [
    "#Создадим текстовый отчет, показывающий основные показатели классификации.\n",
    "# И вычислим матрицу неточностей, чтобы оценить точность классификации.\n",
    "from sklearn.metrics import classification_report, confusion_matrix\n",
    "\n",
    "y_pred = clf.predict(X_test)\n",
    "print(confusion_matrix(y_test, y_pred))\n",
    "print(classification_report(y_test, y_pred))"
   ],
   "metadata": {
    "collapsed": false,
    "pycharm": {
     "name": "#%%\n"
    }
   }
  },
  {
   "cell_type": "markdown",
   "source": [
    "2)Классификатор дерева решений (Decision Tree Classifier)\n",
    "Выданный способ реализации."
   ],
   "metadata": {
    "collapsed": false
   }
  },
  {
   "cell_type": "code",
   "execution_count": 26,
   "outputs": [],
   "source": [
    "# Класс, способный выполнять мультиклассовую классификацию набора данных.\n",
    "from sklearn import tree\n",
    "\n",
    "clf = tree.DecisionTreeClassifier()\n",
    "clf = clf.fit(X_train, y_train)"
   ],
   "metadata": {
    "collapsed": false,
    "pycharm": {
     "name": "#%%\n"
    }
   }
  },
  {
   "cell_type": "code",
   "execution_count": 27,
   "outputs": [
    {
     "name": "stdout",
     "output_type": "stream",
     "text": [
      "[[ 88  12   0   0]\n",
      " [  6  78  13   0]\n",
      " [  0   9  73  11]\n",
      " [  0   0   9 101]]\n",
      "              precision    recall  f1-score   support\n",
      "\n",
      "           0       0.94      0.88      0.91       100\n",
      "           1       0.79      0.80      0.80        97\n",
      "           2       0.77      0.78      0.78        93\n",
      "           3       0.90      0.92      0.91       110\n",
      "\n",
      "    accuracy                           0.85       400\n",
      "   macro avg       0.85      0.85      0.85       400\n",
      "weighted avg       0.85      0.85      0.85       400\n",
      "\n"
     ]
    }
   ],
   "source": [
    "y_pred = clf.predict(X_test)\n",
    "print(confusion_matrix(y_test, y_pred))\n",
    "print(classification_report(y_test, y_pred))"
   ],
   "metadata": {
    "collapsed": false,
    "pycharm": {
     "name": "#%%\n"
    }
   }
  },
  {
   "cell_type": "code",
   "execution_count": 31,
   "outputs": [
    {
     "ename": "ExecutableNotFound",
     "evalue": "failed to execute ['dot', '-Kdot', '-Tpdf', '-O', 'price_range'], make sure the Graphviz executables are on your systems' PATH",
     "output_type": "error",
     "traceback": [
      "\u001B[1;31m---------------------------------------------------------------------------\u001B[0m",
      "\u001B[1;31mFileNotFoundError\u001B[0m                         Traceback (most recent call last)",
      "\u001B[1;32mc:\\users\\ulyag\\appdata\\local\\programs\\python\\python38-32\\lib\\site-packages\\graphviz\\backend.py\u001B[0m in \u001B[0;36mrun\u001B[1;34m(cmd, input, capture_output, check, encoding, quiet, **kwargs)\u001B[0m\n\u001B[0;32m    163\u001B[0m     \u001B[1;32mtry\u001B[0m\u001B[1;33m:\u001B[0m\u001B[1;33m\u001B[0m\u001B[1;33m\u001B[0m\u001B[0m\n\u001B[1;32m--> 164\u001B[1;33m         \u001B[0mproc\u001B[0m \u001B[1;33m=\u001B[0m \u001B[0msubprocess\u001B[0m\u001B[1;33m.\u001B[0m\u001B[0mPopen\u001B[0m\u001B[1;33m(\u001B[0m\u001B[0mcmd\u001B[0m\u001B[1;33m,\u001B[0m \u001B[0mstartupinfo\u001B[0m\u001B[1;33m=\u001B[0m\u001B[0mget_startupinfo\u001B[0m\u001B[1;33m(\u001B[0m\u001B[1;33m)\u001B[0m\u001B[1;33m,\u001B[0m \u001B[1;33m**\u001B[0m\u001B[0mkwargs\u001B[0m\u001B[1;33m)\u001B[0m\u001B[1;33m\u001B[0m\u001B[1;33m\u001B[0m\u001B[0m\n\u001B[0m\u001B[0;32m    165\u001B[0m     \u001B[1;32mexcept\u001B[0m \u001B[0mOSError\u001B[0m \u001B[1;32mas\u001B[0m \u001B[0me\u001B[0m\u001B[1;33m:\u001B[0m\u001B[1;33m\u001B[0m\u001B[1;33m\u001B[0m\u001B[0m\n",
      "\u001B[1;32mc:\\users\\ulyag\\appdata\\local\\programs\\python\\python38-32\\lib\\subprocess.py\u001B[0m in \u001B[0;36m__init__\u001B[1;34m(self, args, bufsize, executable, stdin, stdout, stderr, preexec_fn, close_fds, shell, cwd, env, universal_newlines, startupinfo, creationflags, restore_signals, start_new_session, pass_fds, encoding, errors, text)\u001B[0m\n\u001B[0;32m    853\u001B[0m \u001B[1;33m\u001B[0m\u001B[0m\n\u001B[1;32m--> 854\u001B[1;33m             self._execute_child(args, executable, preexec_fn, close_fds,\n\u001B[0m\u001B[0;32m    855\u001B[0m                                 \u001B[0mpass_fds\u001B[0m\u001B[1;33m,\u001B[0m \u001B[0mcwd\u001B[0m\u001B[1;33m,\u001B[0m \u001B[0menv\u001B[0m\u001B[1;33m,\u001B[0m\u001B[1;33m\u001B[0m\u001B[1;33m\u001B[0m\u001B[0m\n",
      "\u001B[1;32mc:\\users\\ulyag\\appdata\\local\\programs\\python\\python38-32\\lib\\subprocess.py\u001B[0m in \u001B[0;36m_execute_child\u001B[1;34m(self, args, executable, preexec_fn, close_fds, pass_fds, cwd, env, startupinfo, creationflags, shell, p2cread, p2cwrite, c2pread, c2pwrite, errread, errwrite, unused_restore_signals, unused_start_new_session)\u001B[0m\n\u001B[0;32m   1306\u001B[0m             \u001B[1;32mtry\u001B[0m\u001B[1;33m:\u001B[0m\u001B[1;33m\u001B[0m\u001B[1;33m\u001B[0m\u001B[0m\n\u001B[1;32m-> 1307\u001B[1;33m                 hp, ht, pid, tid = _winapi.CreateProcess(executable, args,\n\u001B[0m\u001B[0;32m   1308\u001B[0m                                          \u001B[1;31m# no special security\u001B[0m\u001B[1;33m\u001B[0m\u001B[1;33m\u001B[0m\u001B[1;33m\u001B[0m\u001B[0m\n",
      "\u001B[1;31mFileNotFoundError\u001B[0m: [WinError 2] Не удается найти указанный файл",
      "\nDuring handling of the above exception, another exception occurred:\n",
      "\u001B[1;31mExecutableNotFound\u001B[0m                        Traceback (most recent call last)",
      "\u001B[1;32m<ipython-input-31-f57fab043931>\u001B[0m in \u001B[0;36m<module>\u001B[1;34m\u001B[0m\n\u001B[0;32m      2\u001B[0m \u001B[0mdot_data\u001B[0m \u001B[1;33m=\u001B[0m \u001B[0mtree\u001B[0m\u001B[1;33m.\u001B[0m\u001B[0mexport_graphviz\u001B[0m\u001B[1;33m(\u001B[0m\u001B[0mclf\u001B[0m\u001B[1;33m,\u001B[0m \u001B[0mout_file\u001B[0m\u001B[1;33m=\u001B[0m\u001B[1;32mNone\u001B[0m\u001B[1;33m,\u001B[0m \u001B[0mfilled\u001B[0m\u001B[1;33m=\u001B[0m\u001B[1;32mTrue\u001B[0m\u001B[1;33m,\u001B[0m \u001B[0mrounded\u001B[0m\u001B[1;33m=\u001B[0m\u001B[1;32mTrue\u001B[0m\u001B[1;33m,\u001B[0m \u001B[0mspecial_characters\u001B[0m\u001B[1;33m=\u001B[0m\u001B[1;32mTrue\u001B[0m\u001B[1;33m)\u001B[0m\u001B[1;33m\u001B[0m\u001B[1;33m\u001B[0m\u001B[0m\n\u001B[0;32m      3\u001B[0m \u001B[0mgraph\u001B[0m \u001B[1;33m=\u001B[0m \u001B[0mgraphviz\u001B[0m\u001B[1;33m.\u001B[0m\u001B[0mSource\u001B[0m\u001B[1;33m(\u001B[0m\u001B[0mdot_data\u001B[0m\u001B[1;33m)\u001B[0m\u001B[1;33m\u001B[0m\u001B[1;33m\u001B[0m\u001B[0m\n\u001B[1;32m----> 4\u001B[1;33m \u001B[0mgraph\u001B[0m\u001B[1;33m.\u001B[0m\u001B[0mrender\u001B[0m\u001B[1;33m(\u001B[0m\u001B[1;34m\"price_range\"\u001B[0m\u001B[1;33m)\u001B[0m\u001B[1;33m\u001B[0m\u001B[1;33m\u001B[0m\u001B[0m\n\u001B[0m\u001B[0;32m      5\u001B[0m \u001B[0mgraph\u001B[0m \u001B[1;33m=\u001B[0m \u001B[0mgraphviz\u001B[0m\u001B[1;33m.\u001B[0m\u001B[0mSource\u001B[0m\u001B[1;33m(\u001B[0m\u001B[0mdot_data\u001B[0m\u001B[1;33m)\u001B[0m\u001B[1;33m\u001B[0m\u001B[1;33m\u001B[0m\u001B[0m\n\u001B[0;32m      6\u001B[0m \u001B[0mgraph\u001B[0m\u001B[1;33m\u001B[0m\u001B[1;33m\u001B[0m\u001B[0m\n",
      "\u001B[1;32mc:\\users\\ulyag\\appdata\\local\\programs\\python\\python38-32\\lib\\site-packages\\graphviz\\files.py\u001B[0m in \u001B[0;36mrender\u001B[1;34m(self, filename, directory, view, cleanup, format, renderer, formatter, quiet, quiet_view)\u001B[0m\n\u001B[0;32m    241\u001B[0m             \u001B[0mformat\u001B[0m \u001B[1;33m=\u001B[0m \u001B[0mself\u001B[0m\u001B[1;33m.\u001B[0m\u001B[0m_format\u001B[0m\u001B[1;33m\u001B[0m\u001B[1;33m\u001B[0m\u001B[0m\n\u001B[0;32m    242\u001B[0m \u001B[1;33m\u001B[0m\u001B[0m\n\u001B[1;32m--> 243\u001B[1;33m         rendered = backend.render(self._engine, format, filepath,\n\u001B[0m\u001B[0;32m    244\u001B[0m                                   \u001B[0mrenderer\u001B[0m\u001B[1;33m=\u001B[0m\u001B[0mrenderer\u001B[0m\u001B[1;33m,\u001B[0m \u001B[0mformatter\u001B[0m\u001B[1;33m=\u001B[0m\u001B[0mformatter\u001B[0m\u001B[1;33m,\u001B[0m\u001B[1;33m\u001B[0m\u001B[1;33m\u001B[0m\u001B[0m\n\u001B[0;32m    245\u001B[0m                                   quiet=quiet)\n",
      "\u001B[1;32mc:\\users\\ulyag\\appdata\\local\\programs\\python\\python38-32\\lib\\site-packages\\graphviz\\backend.py\u001B[0m in \u001B[0;36mrender\u001B[1;34m(***failed resolving arguments***)\u001B[0m\n\u001B[0;32m    221\u001B[0m         \u001B[0mcwd\u001B[0m \u001B[1;33m=\u001B[0m \u001B[1;32mNone\u001B[0m\u001B[1;33m\u001B[0m\u001B[1;33m\u001B[0m\u001B[0m\n\u001B[0;32m    222\u001B[0m \u001B[1;33m\u001B[0m\u001B[0m\n\u001B[1;32m--> 223\u001B[1;33m     \u001B[0mrun\u001B[0m\u001B[1;33m(\u001B[0m\u001B[0mcmd\u001B[0m\u001B[1;33m,\u001B[0m \u001B[0mcapture_output\u001B[0m\u001B[1;33m=\u001B[0m\u001B[1;32mTrue\u001B[0m\u001B[1;33m,\u001B[0m \u001B[0mcwd\u001B[0m\u001B[1;33m=\u001B[0m\u001B[0mcwd\u001B[0m\u001B[1;33m,\u001B[0m \u001B[0mcheck\u001B[0m\u001B[1;33m=\u001B[0m\u001B[1;32mTrue\u001B[0m\u001B[1;33m,\u001B[0m \u001B[0mquiet\u001B[0m\u001B[1;33m=\u001B[0m\u001B[0mquiet\u001B[0m\u001B[1;33m)\u001B[0m\u001B[1;33m\u001B[0m\u001B[1;33m\u001B[0m\u001B[0m\n\u001B[0m\u001B[0;32m    224\u001B[0m     \u001B[1;32mreturn\u001B[0m \u001B[0mrendered\u001B[0m\u001B[1;33m\u001B[0m\u001B[1;33m\u001B[0m\u001B[0m\n\u001B[0;32m    225\u001B[0m \u001B[1;33m\u001B[0m\u001B[0m\n",
      "\u001B[1;32mc:\\users\\ulyag\\appdata\\local\\programs\\python\\python38-32\\lib\\site-packages\\graphviz\\backend.py\u001B[0m in \u001B[0;36mrun\u001B[1;34m(cmd, input, capture_output, check, encoding, quiet, **kwargs)\u001B[0m\n\u001B[0;32m    165\u001B[0m     \u001B[1;32mexcept\u001B[0m \u001B[0mOSError\u001B[0m \u001B[1;32mas\u001B[0m \u001B[0me\u001B[0m\u001B[1;33m:\u001B[0m\u001B[1;33m\u001B[0m\u001B[1;33m\u001B[0m\u001B[0m\n\u001B[0;32m    166\u001B[0m         \u001B[1;32mif\u001B[0m \u001B[0me\u001B[0m\u001B[1;33m.\u001B[0m\u001B[0merrno\u001B[0m \u001B[1;33m==\u001B[0m \u001B[0merrno\u001B[0m\u001B[1;33m.\u001B[0m\u001B[0mENOENT\u001B[0m\u001B[1;33m:\u001B[0m\u001B[1;33m\u001B[0m\u001B[1;33m\u001B[0m\u001B[0m\n\u001B[1;32m--> 167\u001B[1;33m             \u001B[1;32mraise\u001B[0m \u001B[0mExecutableNotFound\u001B[0m\u001B[1;33m(\u001B[0m\u001B[0mcmd\u001B[0m\u001B[1;33m)\u001B[0m\u001B[1;33m\u001B[0m\u001B[1;33m\u001B[0m\u001B[0m\n\u001B[0m\u001B[0;32m    168\u001B[0m         \u001B[1;32melse\u001B[0m\u001B[1;33m:\u001B[0m\u001B[1;33m\u001B[0m\u001B[1;33m\u001B[0m\u001B[0m\n\u001B[0;32m    169\u001B[0m             \u001B[1;32mraise\u001B[0m\u001B[1;33m\u001B[0m\u001B[1;33m\u001B[0m\u001B[0m\n",
      "\u001B[1;31mExecutableNotFound\u001B[0m: failed to execute ['dot', '-Kdot', '-Tpdf', '-O', 'price_range'], make sure the Graphviz executables are on your systems' PATH"
     ]
    }
   ],
   "source": [
    "import graphviz\n",
    "dot_data = tree.export_graphviz(clf, out_file=None, filled=True, rounded=True, special_characters=True)\n",
    "graph = graphviz.Source(dot_data)\n",
    "graph.render(\"price_range\")\n",
    "graph = graphviz.Source(dot_data)\n",
    "graph"
   ],
   "metadata": {
    "collapsed": false,
    "pycharm": {
     "name": "#%%\n"
    }
   }
  },
  {
   "cell_type": "markdown",
   "source": [
    "3)Наивный байесовский классификатор (Naive Bayes)\n",
    "Выданный способ реализации."
   ],
   "metadata": {
    "collapsed": false
   }
  },
  {
   "cell_type": "code",
   "execution_count": 32,
   "outputs": [
    {
     "data": {
      "text/plain": "GaussianNB()"
     },
     "execution_count": 32,
     "metadata": {},
     "output_type": "execute_result"
    }
   ],
   "source": [
    "# Классификатор вычисляет вероятность принадлежности объекта к какому-то классу.\n",
    "from sklearn.naive_bayes import GaussianNB\n",
    "\n",
    "clf = GaussianNB()\n",
    "clf.fit(X_train, y_train)"
   ],
   "metadata": {
    "collapsed": false,
    "pycharm": {
     "name": "#%%\n"
    }
   }
  },
  {
   "cell_type": "code",
   "execution_count": 33,
   "outputs": [
    {
     "name": "stdout",
     "output_type": "stream",
     "text": [
      "[[86 14  0  0]\n",
      " [13 66 18  0]\n",
      " [ 0 13 70 10]\n",
      " [ 0  0 13 97]]\n",
      "              precision    recall  f1-score   support\n",
      "\n",
      "           0       0.87      0.86      0.86       100\n",
      "           1       0.71      0.68      0.69        97\n",
      "           2       0.69      0.75      0.72        93\n",
      "           3       0.91      0.88      0.89       110\n",
      "\n",
      "    accuracy                           0.80       400\n",
      "   macro avg       0.79      0.79      0.79       400\n",
      "weighted avg       0.80      0.80      0.80       400\n",
      "\n"
     ]
    }
   ],
   "source": [
    "y_pred = clf.predict(X_test)\n",
    "print(confusion_matrix(y_test, y_pred))\n",
    "print(classification_report(y_test, y_pred))"
   ],
   "metadata": {
    "collapsed": false,
    "pycharm": {
     "name": "#%%\n"
    }
   }
  },
  {
   "cell_type": "markdown",
   "source": [
    "4)Метод опорных векторов (Support Vector Machines)\n",
    "Выданный способ реализации."
   ],
   "metadata": {
    "collapsed": false
   }
  },
  {
   "cell_type": "code",
   "execution_count": 34,
   "outputs": [
    {
     "data": {
      "text/plain": "SVC()"
     },
     "execution_count": 34,
     "metadata": {},
     "output_type": "execute_result"
    }
   ],
   "source": [
    "# Классификатор будет пытаться увеличить расстояние между рисуемыми линиями и точками на разных сторонах, чтобы увеличить свою «уверенность» определения класса.\n",
    "from sklearn import svm\n",
    "clf = svm.SVC()\n",
    "clf.fit(X_train, y_train)"
   ],
   "metadata": {
    "collapsed": false,
    "pycharm": {
     "name": "#%%\n"
    }
   }
  },
  {
   "cell_type": "code",
   "execution_count": 35,
   "outputs": [
    {
     "name": "stdout",
     "output_type": "stream",
     "text": [
      "[[91  9  0  0]\n",
      " [ 9 77 11  0]\n",
      " [ 0 10 78  5]\n",
      " [ 0  0 14 96]]\n",
      "              precision    recall  f1-score   support\n",
      "\n",
      "           0       0.91      0.91      0.91       100\n",
      "           1       0.80      0.79      0.80        97\n",
      "           2       0.76      0.84      0.80        93\n",
      "           3       0.95      0.87      0.91       110\n",
      "\n",
      "    accuracy                           0.85       400\n",
      "   macro avg       0.85      0.85      0.85       400\n",
      "weighted avg       0.86      0.85      0.86       400\n",
      "\n"
     ]
    }
   ],
   "source": [
    "y_pred = clf.predict(X_test)\n",
    "print(confusion_matrix(y_test, y_pred))\n",
    "print(classification_report(y_test, y_pred))"
   ],
   "metadata": {
    "collapsed": false,
    "pycharm": {
     "name": "#%%\n"
    }
   }
  },
  {
   "cell_type": "markdown",
   "source": [
    "5)Логистическая регрессия (Logistic Regression)\n",
    "Выданный способ реализации."
   ],
   "metadata": {
    "collapsed": false
   }
  },
  {
   "cell_type": "code",
   "execution_count": 36,
   "outputs": [
    {
     "data": {
      "text/plain": "LogisticRegression()"
     },
     "execution_count": 36,
     "metadata": {},
     "output_type": "execute_result"
    }
   ],
   "source": [
    "# Логистическая регрессия выводит прогнозы о точках в бинарном масштабе — нулевом или единичном.\n",
    "from sklearn.linear_model import LogisticRegression\n",
    "\n",
    "clf = LogisticRegression()\n",
    "clf.fit(X_train, y_train)"
   ],
   "metadata": {
    "collapsed": false,
    "pycharm": {
     "name": "#%%\n"
    }
   }
  },
  {
   "cell_type": "code",
   "execution_count": 37,
   "outputs": [
    {
     "name": "stdout",
     "output_type": "stream",
     "text": [
      "[[ 97   3   0   0]\n",
      " [  2  90   5   0]\n",
      " [  0   1  91   1]\n",
      " [  0   0   0 110]]\n",
      "              precision    recall  f1-score   support\n",
      "\n",
      "           0       0.98      0.97      0.97       100\n",
      "           1       0.96      0.93      0.94        97\n",
      "           2       0.95      0.98      0.96        93\n",
      "           3       0.99      1.00      1.00       110\n",
      "\n",
      "    accuracy                           0.97       400\n",
      "   macro avg       0.97      0.97      0.97       400\n",
      "weighted avg       0.97      0.97      0.97       400\n",
      "\n"
     ]
    }
   ],
   "source": [
    "y_pred = clf.predict(X_test)\n",
    "print(confusion_matrix(y_test, y_pred))\n",
    "print(classification_report(y_test, y_pred))"
   ],
   "metadata": {
    "collapsed": false,
    "pycharm": {
     "name": "#%%\n"
    }
   }
  },
  {
   "cell_type": "markdown",
   "source": [
    "# Разделение выборки"
   ],
   "metadata": {
    "collapsed": false
   }
  },
  {
   "cell_type": "code",
   "execution_count": 40,
   "outputs": [
    {
     "name": "stdout",
     "output_type": "stream",
     "text": [
      "dict_values([412, 396, 399, 393])\n",
      "dict_values([88, 104, 107, 101])\n"
     ]
    }
   ],
   "source": [
    "from sklearn.model_selection import train_test_split\n",
    "\n",
    "from collections import Counter\n",
    "\n",
    "X_train, X_test, y_train, y_test = train_test_split(X, Y, test_size=0.20)\n",
    "print(Counter(y_train).values())\n",
    "print(Counter(y_test).values())"
   ],
   "metadata": {
    "collapsed": false,
    "pycharm": {
     "name": "#%%\n"
    }
   }
  },
  {
   "cell_type": "code",
   "execution_count": 46,
   "outputs": [
    {
     "name": "stdout",
     "output_type": "stream",
     "text": [
      "dict_values([400, 400, 400, 400])\n",
      "dict_values([100, 100, 100, 100])\n"
     ]
    }
   ],
   "source": [
    "from sklearn.model_selection import train_test_split\n",
    "X_train, X_test, y_train, y_test = train_test_split(X, Y, test_size=0.20, stratify=Y)\n",
    "print(Counter(y_train).values())\n",
    "print(Counter(y_test).values())"
   ],
   "metadata": {
    "collapsed": false,
    "pycharm": {
     "name": "#%%\n"
    }
   }
  },
  {
   "cell_type": "markdown",
   "source": [
    "# Кросс-валидация"
   ],
   "metadata": {
    "collapsed": false
   }
  },
  {
   "cell_type": "code",
   "execution_count": 47,
   "outputs": [
    {
     "name": "stdout",
     "output_type": "stream",
     "text": [
      "TRAIN: [ 367  370  372 ... 1997 1998 1999] TEST: [  0   1   2   3   4   5   6   7   8   9  10  11  12  13  14  15  16  17\n",
      "  18  19  20  21  22  23  24  25  26  27  28  29  30  31  32  33  34  35\n",
      "  36  37  38  39  40  41  42  43  44  45  46  47  48  49  50  51  52  53\n",
      "  54  55  56  57  58  59  60  61  62  63  64  65  66  67  68  69  70  71\n",
      "  72  73  74  75  76  77  78  79  80  81  82  83  84  85  86  87  88  89\n",
      "  90  91  92  93  94  95  96  97  98  99 100 101 102 103 104 105 106 107\n",
      " 108 109 110 111 112 113 114 115 116 117 118 119 120 121 122 123 124 125\n",
      " 126 127 128 129 130 131 132 133 134 135 136 137 138 139 140 141 142 143\n",
      " 144 145 146 147 148 149 150 151 152 153 154 155 156 157 158 159 160 161\n",
      " 162 163 164 165 166 167 168 169 170 171 172 173 174 175 176 177 178 179\n",
      " 180 181 182 183 184 185 186 187 188 189 190 191 192 193 194 195 196 197\n",
      " 198 199 200 201 202 203 204 205 206 207 208 209 210 211 212 213 214 215\n",
      " 216 217 218 219 220 221 222 223 224 225 226 227 228 229 230 231 232 233\n",
      " 234 235 236 237 238 239 240 241 242 243 244 245 246 247 248 249 250 251\n",
      " 252 253 254 255 256 257 258 259 260 261 262 263 264 265 266 267 268 269\n",
      " 270 271 272 273 274 275 276 277 278 279 280 281 282 283 284 285 286 287\n",
      " 288 289 290 291 292 293 294 295 296 297 298 299 300 301 302 303 304 305\n",
      " 306 307 308 309 310 311 312 313 314 315 316 317 318 319 320 321 322 323\n",
      " 324 325 326 327 328 329 330 331 332 333 334 335 336 337 338 339 340 341\n",
      " 342 343 344 345 346 347 348 349 350 351 352 353 354 355 356 357 358 359\n",
      " 360 361 362 363 364 365 366 368 369 371 373 375 376 377 378 380 381 382\n",
      " 383 384 387 388 391 394 397 398 400 407 410 412 416 419 423 426 434 435\n",
      " 439 440 444 445]\n",
      "TRAIN: [   0    1    2 ... 1997 1998 1999] TEST: [367 370 372 374 379 385 386 389 390 392 393 395 396 399 401 402 403 404\n",
      " 405 406 408 409 411 413 414 415 417 418 420 421 422 424 425 427 428 429\n",
      " 430 431 432 433 436 437 438 441 442 443 446 447 448 449 450 451 452 453\n",
      " 454 455 456 457 458 459 460 461 462 463 464 465 466 467 468 469 470 471\n",
      " 472 473 474 475 476 477 478 479 480 481 482 483 484 485 486 487 488 489\n",
      " 490 491 492 493 494 495 496 497 498 499 500 501 502 503 504 505 506 507\n",
      " 508 509 510 511 512 513 514 515 516 517 518 519 520 521 522 523 524 525\n",
      " 526 527 528 529 530 531 532 533 534 535 536 537 538 539 540 541 542 543\n",
      " 544 545 546 547 548 549 550 551 552 553 554 555 556 557 558 559 560 561\n",
      " 562 563 564 565 566 567 568 569 570 571 572 573 574 575 576 577 578 579\n",
      " 580 581 582 583 584 585 586 587 588 589 590 591 592 593 594 595 596 597\n",
      " 598 599 600 601 602 603 604 605 606 607 608 609 610 611 612 613 614 615\n",
      " 616 617 618 619 620 621 622 623 624 625 626 627 628 629 630 631 632 633\n",
      " 634 635 636 637 638 639 640 641 642 643 644 645 646 647 648 649 650 651\n",
      " 652 653 654 655 656 657 658 659 660 661 662 663 664 665 666 667 668 669\n",
      " 670 671 672 673 674 675 676 677 678 679 680 681 682 683 684 685 686 687\n",
      " 688 689 690 691 692 693 694 695 696 697 698 699 700 701 702 703 704 705\n",
      " 706 707 708 709 710 711 712 713 714 715 716 717 718 719 720 721 722 723\n",
      " 724 725 726 727 728 729 730 731 732 733 734 735 736 737 738 739 740 742\n",
      " 743 744 745 747 748 751 752 753 754 755 756 757 758 760 761 762 765 766\n",
      " 767 769 771 772 773 774 775 776 778 779 780 781 782 783 784 785 790 796\n",
      " 797 800 801 802 804 810 811 812 813 814 816 817 819 820 823 829 830 832\n",
      " 841 852 855 858]\n",
      "TRAIN: [   0    1    2 ... 1997 1998 1999] TEST: [ 741  746  749  750  759  763  764  768  770  777  786  787  788  789\n",
      "  791  792  793  794  795  798  799  803  805  806  807  808  809  815\n",
      "  818  821  822  824  825  826  827  828  831  833  834  835  836  837\n",
      "  838  839  840  842  843  844  845  846  847  848  849  850  851  853\n",
      "  854  856  857  859  860  861  862  863  864  865  866  867  868  869\n",
      "  870  871  872  873  874  875  876  877  878  879  880  881  882  883\n",
      "  884  885  886  887  888  889  890  891  892  893  894  895  896  897\n",
      "  898  899  900  901  902  903  904  905  906  907  908  909  910  911\n",
      "  912  913  914  915  916  917  918  919  920  921  922  923  924  925\n",
      "  926  927  928  929  930  931  932  933  934  935  936  937  938  939\n",
      "  940  941  942  943  944  945  946  947  948  949  950  951  952  953\n",
      "  954  955  956  957  958  959  960  961  962  963  964  965  966  967\n",
      "  968  969  970  971  972  973  974  975  976  977  978  979  980  981\n",
      "  982  983  984  985  986  987  988  989  990  991  992  993  994  995\n",
      "  996  997  998  999 1000 1001 1002 1003 1004 1005 1006 1007 1008 1009\n",
      " 1010 1011 1012 1013 1014 1015 1016 1017 1018 1019 1020 1021 1022 1023\n",
      " 1024 1025 1026 1027 1028 1029 1030 1031 1032 1033 1034 1035 1036 1037\n",
      " 1038 1039 1040 1041 1042 1043 1044 1045 1046 1047 1048 1049 1050 1051\n",
      " 1052 1053 1054 1055 1056 1057 1058 1059 1060 1061 1062 1063 1064 1065\n",
      " 1066 1067 1068 1069 1070 1071 1072 1073 1074 1075 1076 1077 1078 1079\n",
      " 1080 1081 1082 1083 1084 1085 1086 1087 1088 1089 1090 1091 1092 1093\n",
      " 1094 1095 1096 1097 1098 1099 1100 1101 1102 1103 1104 1105 1106 1107\n",
      " 1108 1109 1110 1111 1112 1113 1114 1115 1116 1117 1118 1123 1124 1125\n",
      " 1126 1127 1128 1129 1131 1132 1133 1134 1135 1136 1137 1138 1139 1140\n",
      " 1141 1142 1143 1144 1145 1146 1147 1148 1149 1150 1151 1152 1154 1155\n",
      " 1157 1158 1159 1160 1161 1162 1163 1164 1165 1166 1167 1168 1169 1170\n",
      " 1172 1174 1175 1177 1178 1181 1182 1183 1187 1190 1193 1194 1197 1198\n",
      " 1200 1202 1204 1205 1207 1208 1209 1211 1213 1216 1219 1224 1228 1243\n",
      " 1244 1245 1247 1250 1257 1259 1264 1266]\n",
      "TRAIN: [   0    1    2 ... 1997 1998 1999] TEST: [1119 1120 1121 1122 1130 1153 1156 1171 1173 1176 1179 1180 1184 1185\n",
      " 1186 1188 1189 1191 1192 1195 1196 1199 1201 1203 1206 1210 1212 1214\n",
      " 1215 1217 1218 1220 1221 1222 1223 1225 1226 1227 1229 1230 1231 1232\n",
      " 1233 1234 1235 1236 1237 1238 1239 1240 1241 1242 1246 1248 1249 1251\n",
      " 1252 1253 1254 1255 1256 1258 1260 1261 1262 1263 1265 1267 1268 1269\n",
      " 1270 1271 1272 1273 1274 1275 1276 1277 1278 1279 1280 1281 1282 1283\n",
      " 1284 1285 1286 1287 1288 1289 1290 1291 1292 1293 1294 1295 1296 1297\n",
      " 1298 1299 1300 1301 1302 1303 1304 1305 1306 1307 1308 1309 1310 1311\n",
      " 1312 1313 1314 1315 1316 1317 1318 1319 1320 1321 1322 1323 1324 1325\n",
      " 1326 1327 1328 1329 1330 1331 1332 1333 1334 1335 1336 1337 1338 1339\n",
      " 1340 1341 1342 1343 1344 1345 1346 1347 1348 1349 1350 1351 1352 1353\n",
      " 1354 1355 1356 1357 1358 1359 1360 1361 1362 1363 1364 1365 1366 1367\n",
      " 1368 1369 1370 1371 1372 1373 1374 1375 1376 1377 1378 1379 1380 1381\n",
      " 1382 1383 1384 1385 1386 1387 1388 1389 1390 1391 1392 1393 1394 1395\n",
      " 1396 1397 1398 1399 1400 1401 1402 1403 1404 1405 1406 1407 1408 1409\n",
      " 1410 1411 1412 1413 1414 1415 1416 1417 1418 1419 1420 1421 1422 1423\n",
      " 1424 1425 1426 1427 1428 1429 1430 1431 1432 1433 1434 1435 1436 1437\n",
      " 1438 1439 1440 1441 1442 1443 1444 1445 1446 1447 1448 1449 1450 1451\n",
      " 1452 1453 1454 1455 1456 1457 1458 1459 1460 1461 1462 1463 1464 1465\n",
      " 1466 1467 1468 1469 1470 1471 1472 1473 1474 1475 1476 1477 1478 1479\n",
      " 1480 1481 1482 1483 1484 1485 1486 1487 1488 1489 1490 1491 1492 1493\n",
      " 1494 1495 1496 1497 1498 1499 1500 1501 1502 1503 1504 1505 1506 1507\n",
      " 1508 1509 1510 1511 1512 1513 1514 1515 1516 1517 1518 1519 1520 1521\n",
      " 1522 1523 1524 1525 1526 1527 1528 1529 1530 1531 1532 1533 1534 1535\n",
      " 1536 1537 1538 1539 1540 1541 1542 1543 1544 1545 1546 1547 1548 1549\n",
      " 1550 1551 1552 1553 1554 1555 1556 1557 1558 1559 1560 1561 1562 1563\n",
      " 1564 1565 1566 1567 1568 1569 1570 1571 1572 1573 1574 1575 1576 1577\n",
      " 1578 1579 1580 1581 1582 1583 1584 1585 1586 1587 1589 1590 1592 1594\n",
      " 1596 1597 1600 1601 1603 1604 1625 1626]\n",
      "TRAIN: [   0    1    2 ... 1604 1625 1626] TEST: [1588 1591 1593 1595 1598 1599 1602 1605 1606 1607 1608 1609 1610 1611\n",
      " 1612 1613 1614 1615 1616 1617 1618 1619 1620 1621 1622 1623 1624 1627\n",
      " 1628 1629 1630 1631 1632 1633 1634 1635 1636 1637 1638 1639 1640 1641\n",
      " 1642 1643 1644 1645 1646 1647 1648 1649 1650 1651 1652 1653 1654 1655\n",
      " 1656 1657 1658 1659 1660 1661 1662 1663 1664 1665 1666 1667 1668 1669\n",
      " 1670 1671 1672 1673 1674 1675 1676 1677 1678 1679 1680 1681 1682 1683\n",
      " 1684 1685 1686 1687 1688 1689 1690 1691 1692 1693 1694 1695 1696 1697\n",
      " 1698 1699 1700 1701 1702 1703 1704 1705 1706 1707 1708 1709 1710 1711\n",
      " 1712 1713 1714 1715 1716 1717 1718 1719 1720 1721 1722 1723 1724 1725\n",
      " 1726 1727 1728 1729 1730 1731 1732 1733 1734 1735 1736 1737 1738 1739\n",
      " 1740 1741 1742 1743 1744 1745 1746 1747 1748 1749 1750 1751 1752 1753\n",
      " 1754 1755 1756 1757 1758 1759 1760 1761 1762 1763 1764 1765 1766 1767\n",
      " 1768 1769 1770 1771 1772 1773 1774 1775 1776 1777 1778 1779 1780 1781\n",
      " 1782 1783 1784 1785 1786 1787 1788 1789 1790 1791 1792 1793 1794 1795\n",
      " 1796 1797 1798 1799 1800 1801 1802 1803 1804 1805 1806 1807 1808 1809\n",
      " 1810 1811 1812 1813 1814 1815 1816 1817 1818 1819 1820 1821 1822 1823\n",
      " 1824 1825 1826 1827 1828 1829 1830 1831 1832 1833 1834 1835 1836 1837\n",
      " 1838 1839 1840 1841 1842 1843 1844 1845 1846 1847 1848 1849 1850 1851\n",
      " 1852 1853 1854 1855 1856 1857 1858 1859 1860 1861 1862 1863 1864 1865\n",
      " 1866 1867 1868 1869 1870 1871 1872 1873 1874 1875 1876 1877 1878 1879\n",
      " 1880 1881 1882 1883 1884 1885 1886 1887 1888 1889 1890 1891 1892 1893\n",
      " 1894 1895 1896 1897 1898 1899 1900 1901 1902 1903 1904 1905 1906 1907\n",
      " 1908 1909 1910 1911 1912 1913 1914 1915 1916 1917 1918 1919 1920 1921\n",
      " 1922 1923 1924 1925 1926 1927 1928 1929 1930 1931 1932 1933 1934 1935\n",
      " 1936 1937 1938 1939 1940 1941 1942 1943 1944 1945 1946 1947 1948 1949\n",
      " 1950 1951 1952 1953 1954 1955 1956 1957 1958 1959 1960 1961 1962 1963\n",
      " 1964 1965 1966 1967 1968 1969 1970 1971 1972 1973 1974 1975 1976 1977\n",
      " 1978 1979 1980 1981 1982 1983 1984 1985 1986 1987 1988 1989 1990 1991\n",
      " 1992 1993 1994 1995 1996 1997 1998 1999]\n"
     ]
    }
   ],
   "source": [
    "from sklearn.model_selection import StratifiedKFold\n",
    "\n",
    "skf = StratifiedKFold(n_splits=5)\n",
    "for train_index, test_index in skf.split(X, Y):\n",
    "  print(\"TRAIN:\", train_index, \"TEST:\", test_index)\n",
    "  X_train, X_test = X[train_index], X[test_index]\n",
    "  y_train, y_test = Y[train_index], Y[test_index]"
   ],
   "metadata": {
    "collapsed": false,
    "pycharm": {
     "name": "#%%\n"
    }
   }
  },
  {
   "cell_type": "code",
   "execution_count": 49,
   "outputs": [
    {
     "name": "stdout",
     "output_type": "stream",
     "text": [
      "              precision    recall  f1-score   support\n",
      "\n",
      "           0       0.90      0.96      0.93       100\n",
      "           1       0.86      0.85      0.85       100\n",
      "           2       0.85      0.79      0.82       100\n",
      "           3       0.89      0.90      0.90       100\n",
      "\n",
      "    accuracy                           0.88       400\n",
      "   macro avg       0.87      0.88      0.87       400\n",
      "weighted avg       0.87      0.88      0.87       400\n",
      "\n",
      "0.875\n",
      "              precision    recall  f1-score   support\n",
      "\n",
      "           0       0.95      0.94      0.94       100\n",
      "           1       0.90      0.89      0.89       100\n",
      "           2       0.85      0.84      0.84       100\n",
      "           3       0.88      0.91      0.90       100\n",
      "\n",
      "    accuracy                           0.90       400\n",
      "   macro avg       0.90      0.90      0.89       400\n",
      "weighted avg       0.90      0.90      0.89       400\n",
      "\n",
      "0.895\n",
      "              precision    recall  f1-score   support\n",
      "\n",
      "           0       0.92      0.95      0.94       100\n",
      "           1       0.89      0.85      0.87       100\n",
      "           2       0.82      0.89      0.86       100\n",
      "           3       0.95      0.88      0.91       100\n",
      "\n",
      "    accuracy                           0.89       400\n",
      "   macro avg       0.89      0.89      0.89       400\n",
      "weighted avg       0.89      0.89      0.89       400\n",
      "\n",
      "0.8925\n",
      "              precision    recall  f1-score   support\n",
      "\n",
      "           0       0.95      0.98      0.97       100\n",
      "           1       0.86      0.88      0.87       100\n",
      "           2       0.79      0.84      0.82       100\n",
      "           3       0.96      0.85      0.90       100\n",
      "\n",
      "    accuracy                           0.89       400\n",
      "   macro avg       0.89      0.89      0.89       400\n",
      "weighted avg       0.89      0.89      0.89       400\n",
      "\n",
      "0.8875\n",
      "              precision    recall  f1-score   support\n",
      "\n",
      "           0       0.95      0.93      0.94       100\n",
      "           1       0.83      0.85      0.84       100\n",
      "           2       0.79      0.77      0.78       100\n",
      "           3       0.88      0.89      0.89       100\n",
      "\n",
      "    accuracy                           0.86       400\n",
      "   macro avg       0.86      0.86      0.86       400\n",
      "weighted avg       0.86      0.86      0.86       400\n",
      "\n",
      "0.86\n"
     ]
    }
   ],
   "source": [
    "from sklearn.model_selection import StratifiedKFold\n",
    "\n",
    "skf = StratifiedKFold(n_splits=5)\n",
    "for train_index, test_index in skf.split(X, Y):\n",
    "  X_train, X_test = X[train_index], X[test_index]\n",
    "  y_train, y_test = Y[train_index], Y[test_index]\n",
    "  clf = KNeighborsClassifier(n_neighbors=5)\n",
    "  clf.fit(X_train, y_train)\n",
    "  y_pred = clf.predict(X_test)\n",
    "  print(classification_report(y_test, y_pred))\n",
    "  print(clf.score(X_test, y_test))"
   ],
   "metadata": {
    "collapsed": false,
    "pycharm": {
     "name": "#%%\n"
    }
   }
  },
  {
   "cell_type": "markdown",
   "source": [
    "# Поиск гиперпараметров"
   ],
   "metadata": {
    "collapsed": false
   }
  },
  {
   "cell_type": "code",
   "execution_count": 45,
   "outputs": [
    {
     "data": {
      "text/plain": "{'n_neighbors': 4}"
     },
     "execution_count": 45,
     "metadata": {},
     "output_type": "execute_result"
    }
   ],
   "source": [
    "# Исчерпывающий поиск по заданным значениям параметров для оценщика.\n",
    "from sklearn.model_selection import GridSearchCV\n",
    "\n",
    "from sklearn.neighbors import KNeighborsClassifier\n",
    "\n",
    "parameters = {'n_neighbors':[1, 2, 3, 4, 5]}\n",
    "knn = KNeighborsClassifier()\n",
    "clf = GridSearchCV(knn, parameters)\n",
    "clf.fit(X_train, y_train)\n",
    "clf.best_params_\n"
   ],
   "metadata": {
    "collapsed": false,
    "pycharm": {
     "name": "#%%\n"
    }
   }
  }
 ],
 "metadata": {
  "kernelspec": {
   "display_name": "Python 3",
   "language": "python",
   "name": "python3"
  },
  "language_info": {
   "codemirror_mode": {
    "name": "ipython",
    "version": 2
   },
   "file_extension": ".py",
   "mimetype": "text/x-python",
   "name": "python",
   "nbconvert_exporter": "python",
   "pygments_lexer": "ipython2",
   "version": "2.7.6"
  }
 },
 "nbformat": 4,
 "nbformat_minor": 0
}